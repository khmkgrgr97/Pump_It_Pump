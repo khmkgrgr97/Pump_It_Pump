{
 "cells": [
  {
   "cell_type": "markdown",
   "metadata": {},
   "source": [
    "# <center> $🚰 💦\\ Pump\\ it\\ Up:Data\\ Mining\\ the\\ Water\\ Table\\$ \n",
    "\n",
    "## <center> $Григорий\\ Хомюк\\$\n",
    "    \n",
    "<img src='images/place_pump.png' />\n",
    "<img src='images/pumping.jpg' />"
   ]
  },
  {
   "cell_type": "markdown",
   "metadata": {},
   "source": [
    "<div class=\"alert alert-info\">\n",
    "\n",
    "Данная работа основана на соревновании: **https://www.drivendata.org/competitions/7/pump-it-up-data-mining-the-water-table/**\n",
    "    \n",
    "---\n",
    "    \n",
    "**Акцент** в исследовании сделан на тюнинг моделей таких, как: `Catboost`, `Xgboost`, `RandomForest`, `KNN`; и их последующий `stacking`.  \n",
    "    \n",
    "---   \n",
    "    \n",
    "**Задача**: используя данные Таарифы и Министерства водного хозяйства Танзании, предсказать, какие **водяные насосы** **работают**, какие **требуют ремонта**, а какие вообще **не работают**?\n",
    "    \n",
    "---\n",
    "#### $Метрика\\ качества$: ***Accuracy***"
   ]
  },
  {
   "cell_type": "markdown",
   "metadata": {},
   "source": [
    "<div class=\"alert alert-info\">\n",
    "\n",
    "### data description:    \n",
    "    \n",
    "`amount_tsh` - Total static head (amount water available to waterpoint)\n",
    "\n",
    "`date_recorded` - The date the row was entered\n",
    "\n",
    "`funder` - Who funded the well\n",
    "\n",
    "`gps_height` - Altitude of the well\n",
    "\n",
    "`installer` - Organization that installed the well\n",
    "\n",
    "`longitude` - GPS coordinate\n",
    "\n",
    "`latitude` - GPS coordinate\n",
    "\n",
    "`wpt_name` - Name of the waterpoint if there is one\n",
    "\n",
    "`num_private` -\n",
    "\n",
    "`basin` - Geographic water basin\n",
    "\n",
    "`subvillage` - Geographic location\n",
    "\n",
    "`region` - Geographic location\n",
    "\n",
    "`region_code` - Geographic location (coded)\n",
    "\n",
    "`district_code` - Geographic location (coded)\n",
    "\n",
    "`lga` - Geographic location\n",
    "\n",
    "`ward` - Geographic location\n",
    "\n",
    "`population` - Population around the well\n",
    "\n",
    "`public_meeting` - True/False\n",
    "\n",
    "`recorded_by` - Group entering this row of data\n",
    "\n",
    "`scheme_management` - Who operates the waterpoint\n",
    "\n",
    "`scheme_name` - Who operates the waterpoint\n",
    "\n",
    "`permit` - If the waterpoint is permitted\n",
    "\n",
    "`construction_year` - Year the waterpoint was constructed\n",
    "\n",
    "`extraction_type` - The kind of extraction the waterpoint uses\n",
    "\n",
    "`extraction_type_group` - The kind of extraction the waterpoint uses\n",
    "\n",
    "`extraction_type_class` - The kind of extraction the waterpoint uses\n",
    "\n",
    "`management` - How the waterpoint is managed\n",
    "\n",
    "`management_group` - How the waterpoint is managed\n",
    "\n",
    "`payment` - What the water costs\n",
    "\n",
    "`payment_type` - What the water costs\n",
    "\n",
    "`water_quality` - The quality of the water\n",
    "\n",
    "`quality_group` - The quality of the water\n",
    "\n",
    "`quantity` - The quantity of water\n",
    "\n",
    "`quantity_group` - The quantity of water\n",
    "\n",
    "`source` - The source of the water\n",
    "\n",
    "`source_type` - The source of the water\n",
    "\n",
    "`source_class` - The source of the water\n",
    "\n",
    "`waterpoint_type` - The kind of waterpoint\n",
    "\n",
    "`waterpoint_type_group` - The kind of waterpoint\n"
   ]
  },
  {
   "cell_type": "markdown",
   "metadata": {},
   "source": [
    "<h2> Import libraries </h2> "
   ]
  },
  {
   "cell_type": "code",
   "execution_count": 1,
   "metadata": {},
   "outputs": [],
   "source": [
    "import pandas as pd\n",
    "import numpy as np\n",
    "import matplotlib.pyplot as plt\n",
    "from matplotlib import pyplot\n",
    "from sklearn.neighbors import KNeighborsClassifier\n",
    "from sklearn.linear_model import LogisticRegression, LogisticRegressionCV\n",
    "from sklearn.model_selection import train_test_split\n",
    "import sklearn\n",
    "from sklearn.preprocessing import scale\n",
    "from sklearn.metrics import roc_auc_score, accuracy_score\n",
    "from sklearn.pipeline import Pipeline\n",
    "from sklearn.preprocessing import StandardScaler, LabelEncoder\n",
    "from sklearn.model_selection import RandomizedSearchCV, GridSearchCV\n",
    "from sklearn.model_selection import StratifiedKFold, KFold\n",
    "from sklearn.ensemble import RandomForestClassifier\n",
    "from sklearn.tree import DecisionTreeClassifier\n",
    "from sklearn.ensemble import BaggingClassifier, GradientBoostingClassifier\n",
    "from catboost import CatBoostClassifier, CatBoostRegressor, Pool\n",
    "from sklearn.model_selection import cross_val_score\n",
    "import datetime\n",
    "from datetime import datetime\n",
    "from numpy import nan\n",
    "import seaborn as sns\n",
    "import matplotlib\n",
    "from sklearn.decomposition import PCA\n",
    "from xgboost import XGBClassifier\n",
    "import random\n",
    "from sklearn.feature_selection import RFECV, RFE\n",
    "import pygeohash as gh\n",
    "from vecstack import stacking\n",
    "from sklearn.ensemble import BaggingClassifier\n",
    "from scipy import stats\n",
    "from math import prod\n",
    "from itertools import product\n",
    "import joblib \n",
    "\n",
    "import warnings\n",
    "warnings.simplefilter(action='ignore', category=FutureWarning)\n",
    "sns.set_theme()  # Тут можно задать стили"
   ]
  },
  {
   "cell_type": "markdown",
   "metadata": {},
   "source": [
    "<h2>EDA</h2> "
   ]
  },
  {
   "cell_type": "code",
   "execution_count": 2,
   "metadata": {},
   "outputs": [],
   "source": [
    "test = pd.read_csv('data/Pump_it_Up_Data_Mining_the_Water_Table_-_Test_set_values.csv', sep=',')\n",
    "train = pd.read_csv('data/Pump_it_Up_Data_Mining_the_Water_Table_-_Training_set_values.csv', sep=',')\n",
    "labels = pd.read_csv('data/Pump_it_Up_Data_Mining_the_Water_Table_-_Training_set_labels.csv', sep=',')\n",
    "y_train = labels['status_group']"
   ]
  },
  {
   "cell_type": "markdown",
   "metadata": {},
   "source": [
    "Для удобства объединим тестовую и обучающую выборку в один датасет: создав колонку **sample**, которая принимает два значения: test и train."
   ]
  },
  {
   "cell_type": "code",
   "execution_count": 3,
   "metadata": {},
   "outputs": [],
   "source": [
    "train['sample'] = 'train'\n",
    "test['sample'] = 'test'"
   ]
  },
  {
   "cell_type": "code",
   "execution_count": 4,
   "metadata": {},
   "outputs": [
    {
     "data": {
      "text/html": [
       "<div>\n",
       "<style scoped>\n",
       "    .dataframe tbody tr th:only-of-type {\n",
       "        vertical-align: middle;\n",
       "    }\n",
       "\n",
       "    .dataframe tbody tr th {\n",
       "        vertical-align: top;\n",
       "    }\n",
       "\n",
       "    .dataframe thead th {\n",
       "        text-align: right;\n",
       "    }\n",
       "</style>\n",
       "<table border=\"1\" class=\"dataframe\">\n",
       "  <thead>\n",
       "    <tr style=\"text-align: right;\">\n",
       "      <th></th>\n",
       "      <th>id</th>\n",
       "      <th>amount_tsh</th>\n",
       "      <th>date_recorded</th>\n",
       "      <th>funder</th>\n",
       "      <th>gps_height</th>\n",
       "      <th>installer</th>\n",
       "      <th>longitude</th>\n",
       "      <th>latitude</th>\n",
       "      <th>wpt_name</th>\n",
       "      <th>num_private</th>\n",
       "      <th>...</th>\n",
       "      <th>water_quality</th>\n",
       "      <th>quality_group</th>\n",
       "      <th>quantity</th>\n",
       "      <th>quantity_group</th>\n",
       "      <th>source</th>\n",
       "      <th>source_type</th>\n",
       "      <th>source_class</th>\n",
       "      <th>waterpoint_type</th>\n",
       "      <th>waterpoint_type_group</th>\n",
       "      <th>sample</th>\n",
       "    </tr>\n",
       "  </thead>\n",
       "  <tbody>\n",
       "    <tr>\n",
       "      <th>0</th>\n",
       "      <td>69572</td>\n",
       "      <td>6000.0</td>\n",
       "      <td>2011-03-14</td>\n",
       "      <td>Roman</td>\n",
       "      <td>1390</td>\n",
       "      <td>Roman</td>\n",
       "      <td>34.938093</td>\n",
       "      <td>-9.856322</td>\n",
       "      <td>none</td>\n",
       "      <td>0</td>\n",
       "      <td>...</td>\n",
       "      <td>soft</td>\n",
       "      <td>good</td>\n",
       "      <td>enough</td>\n",
       "      <td>enough</td>\n",
       "      <td>spring</td>\n",
       "      <td>spring</td>\n",
       "      <td>groundwater</td>\n",
       "      <td>communal standpipe</td>\n",
       "      <td>communal standpipe</td>\n",
       "      <td>train</td>\n",
       "    </tr>\n",
       "    <tr>\n",
       "      <th>1</th>\n",
       "      <td>8776</td>\n",
       "      <td>0.0</td>\n",
       "      <td>2013-03-06</td>\n",
       "      <td>Grumeti</td>\n",
       "      <td>1399</td>\n",
       "      <td>GRUMETI</td>\n",
       "      <td>34.698766</td>\n",
       "      <td>-2.147466</td>\n",
       "      <td>Zahanati</td>\n",
       "      <td>0</td>\n",
       "      <td>...</td>\n",
       "      <td>soft</td>\n",
       "      <td>good</td>\n",
       "      <td>insufficient</td>\n",
       "      <td>insufficient</td>\n",
       "      <td>rainwater harvesting</td>\n",
       "      <td>rainwater harvesting</td>\n",
       "      <td>surface</td>\n",
       "      <td>communal standpipe</td>\n",
       "      <td>communal standpipe</td>\n",
       "      <td>train</td>\n",
       "    </tr>\n",
       "    <tr>\n",
       "      <th>2</th>\n",
       "      <td>34310</td>\n",
       "      <td>25.0</td>\n",
       "      <td>2013-02-25</td>\n",
       "      <td>Lottery Club</td>\n",
       "      <td>686</td>\n",
       "      <td>World vision</td>\n",
       "      <td>37.460664</td>\n",
       "      <td>-3.821329</td>\n",
       "      <td>Kwa Mahundi</td>\n",
       "      <td>0</td>\n",
       "      <td>...</td>\n",
       "      <td>soft</td>\n",
       "      <td>good</td>\n",
       "      <td>enough</td>\n",
       "      <td>enough</td>\n",
       "      <td>dam</td>\n",
       "      <td>dam</td>\n",
       "      <td>surface</td>\n",
       "      <td>communal standpipe multiple</td>\n",
       "      <td>communal standpipe</td>\n",
       "      <td>train</td>\n",
       "    </tr>\n",
       "    <tr>\n",
       "      <th>3</th>\n",
       "      <td>67743</td>\n",
       "      <td>0.0</td>\n",
       "      <td>2013-01-28</td>\n",
       "      <td>Unicef</td>\n",
       "      <td>263</td>\n",
       "      <td>UNICEF</td>\n",
       "      <td>38.486161</td>\n",
       "      <td>-11.155298</td>\n",
       "      <td>Zahanati Ya Nanyumbu</td>\n",
       "      <td>0</td>\n",
       "      <td>...</td>\n",
       "      <td>soft</td>\n",
       "      <td>good</td>\n",
       "      <td>dry</td>\n",
       "      <td>dry</td>\n",
       "      <td>machine dbh</td>\n",
       "      <td>borehole</td>\n",
       "      <td>groundwater</td>\n",
       "      <td>communal standpipe multiple</td>\n",
       "      <td>communal standpipe</td>\n",
       "      <td>train</td>\n",
       "    </tr>\n",
       "    <tr>\n",
       "      <th>4</th>\n",
       "      <td>19728</td>\n",
       "      <td>0.0</td>\n",
       "      <td>2011-07-13</td>\n",
       "      <td>Action In A</td>\n",
       "      <td>0</td>\n",
       "      <td>Artisan</td>\n",
       "      <td>31.130847</td>\n",
       "      <td>-1.825359</td>\n",
       "      <td>Shuleni</td>\n",
       "      <td>0</td>\n",
       "      <td>...</td>\n",
       "      <td>soft</td>\n",
       "      <td>good</td>\n",
       "      <td>seasonal</td>\n",
       "      <td>seasonal</td>\n",
       "      <td>rainwater harvesting</td>\n",
       "      <td>rainwater harvesting</td>\n",
       "      <td>surface</td>\n",
       "      <td>communal standpipe</td>\n",
       "      <td>communal standpipe</td>\n",
       "      <td>train</td>\n",
       "    </tr>\n",
       "  </tbody>\n",
       "</table>\n",
       "<p>5 rows × 41 columns</p>\n",
       "</div>"
      ],
      "text/plain": [
       "      id  amount_tsh date_recorded        funder  gps_height     installer  \\\n",
       "0  69572      6000.0    2011-03-14         Roman        1390         Roman   \n",
       "1   8776         0.0    2013-03-06       Grumeti        1399       GRUMETI   \n",
       "2  34310        25.0    2013-02-25  Lottery Club         686  World vision   \n",
       "3  67743         0.0    2013-01-28        Unicef         263        UNICEF   \n",
       "4  19728         0.0    2011-07-13   Action In A           0       Artisan   \n",
       "\n",
       "   longitude   latitude              wpt_name  num_private  ... water_quality  \\\n",
       "0  34.938093  -9.856322                  none            0  ...          soft   \n",
       "1  34.698766  -2.147466              Zahanati            0  ...          soft   \n",
       "2  37.460664  -3.821329           Kwa Mahundi            0  ...          soft   \n",
       "3  38.486161 -11.155298  Zahanati Ya Nanyumbu            0  ...          soft   \n",
       "4  31.130847  -1.825359               Shuleni            0  ...          soft   \n",
       "\n",
       "  quality_group      quantity  quantity_group                source  \\\n",
       "0          good        enough          enough                spring   \n",
       "1          good  insufficient    insufficient  rainwater harvesting   \n",
       "2          good        enough          enough                   dam   \n",
       "3          good           dry             dry           machine dbh   \n",
       "4          good      seasonal        seasonal  rainwater harvesting   \n",
       "\n",
       "            source_type source_class              waterpoint_type  \\\n",
       "0                spring  groundwater           communal standpipe   \n",
       "1  rainwater harvesting      surface           communal standpipe   \n",
       "2                   dam      surface  communal standpipe multiple   \n",
       "3              borehole  groundwater  communal standpipe multiple   \n",
       "4  rainwater harvesting      surface           communal standpipe   \n",
       "\n",
       "  waterpoint_type_group sample  \n",
       "0    communal standpipe  train  \n",
       "1    communal standpipe  train  \n",
       "2    communal standpipe  train  \n",
       "3    communal standpipe  train  \n",
       "4    communal standpipe  train  \n",
       "\n",
       "[5 rows x 41 columns]"
      ]
     },
     "execution_count": 4,
     "metadata": {},
     "output_type": "execute_result"
    }
   ],
   "source": [
    "df = pd.concat([train, test], axis = 0).reset_index(drop=True)\n",
    "df.head()"
   ]
  },
  {
   "cell_type": "markdown",
   "metadata": {},
   "source": [
    "Таргет имеет 3 класса: ***работающие/не работающие/требующие ремонта насосы***"
   ]
  },
  {
   "cell_type": "code",
   "execution_count": 5,
   "metadata": {},
   "outputs": [
    {
     "data": {
      "image/png": "[encoded data removed]",
      "text/plain": [
       "<Figure size 432x288 with 1 Axes>"
      ]
     },
     "metadata": {
      "needs_background": "light"
     },
     "output_type": "display_data"
    }
   ],
   "source": [
    "sns.countplot(y_train, palette = sns.color_palette()[:3]);"
   ]
  },
  {
   "cell_type": "code",
   "execution_count": 6,
   "metadata": {
    "scrolled": false
   },
   "outputs": [
    {
     "name": "stdout",
     "output_type": "stream",
     "text": [
      "<class 'pandas.core.frame.DataFrame'>\n",
      "RangeIndex: 74250 entries, 0 to 74249\n",
      "Data columns (total 41 columns):\n",
      " #   Column                 Non-Null Count  Dtype  \n",
      "---  ------                 --------------  -----  \n",
      " 0   id                     74250 non-null  int64  \n",
      " 1   amount_tsh             74250 non-null  float64\n",
      " 2   date_recorded          74250 non-null  object \n",
      " 3   funder                 69743 non-null  object \n",
      " 4   gps_height             74250 non-null  int64  \n",
      " 5   installer              69718 non-null  object \n",
      " 6   longitude              74250 non-null  float64\n",
      " 7   latitude               74250 non-null  float64\n",
      " 8   wpt_name               74248 non-null  object \n",
      " 9   num_private            74250 non-null  int64  \n",
      " 10  basin                  74250 non-null  object \n",
      " 11  subvillage             73780 non-null  object \n",
      " 12  region                 74250 non-null  object \n",
      " 13  region_code            74250 non-null  int64  \n",
      " 14  district_code          74250 non-null  int64  \n",
      " 15  lga                    74250 non-null  object \n",
      " 16  ward                   74250 non-null  object \n",
      " 17  population             74250 non-null  int64  \n",
      " 18  public_meeting         70095 non-null  object \n",
      " 19  recorded_by            74250 non-null  object \n",
      " 20  scheme_management      69403 non-null  object \n",
      " 21  scheme_name            38198 non-null  object \n",
      " 22  permit                 70457 non-null  object \n",
      " 23  construction_year      74250 non-null  int64  \n",
      " 24  extraction_type        74250 non-null  object \n",
      " 25  extraction_type_group  74250 non-null  object \n",
      " 26  extraction_type_class  74250 non-null  object \n",
      " 27  management             74250 non-null  object \n",
      " 28  management_group       74250 non-null  object \n",
      " 29  payment                74250 non-null  object \n",
      " 30  payment_type           74250 non-null  object \n",
      " 31  water_quality          74250 non-null  object \n",
      " 32  quality_group          74250 non-null  object \n",
      " 33  quantity               74250 non-null  object \n",
      " 34  quantity_group         74250 non-null  object \n",
      " 35  source                 74250 non-null  object \n",
      " 36  source_type            74250 non-null  object \n",
      " 37  source_class           74250 non-null  object \n",
      " 38  waterpoint_type        74250 non-null  object \n",
      " 39  waterpoint_type_group  74250 non-null  object \n",
      " 40  sample                 74250 non-null  object \n",
      "dtypes: float64(3), int64(7), object(31)\n",
      "memory usage: 23.2+ MB\n"
     ]
    }
   ],
   "source": [
    "df.info()"
   ]
  },
  {
   "cell_type": "code",
   "execution_count": 7,
   "metadata": {},
   "outputs": [
    {
     "data": {
      "text/html": [
       "<div>\n",
       "<style scoped>\n",
       "    .dataframe tbody tr th:only-of-type {\n",
       "        vertical-align: middle;\n",
       "    }\n",
       "\n",
       "    .dataframe tbody tr th {\n",
       "        vertical-align: top;\n",
       "    }\n",
       "\n",
       "    .dataframe thead th {\n",
       "        text-align: right;\n",
       "    }\n",
       "</style>\n",
       "<table border=\"1\" class=\"dataframe\">\n",
       "  <thead>\n",
       "    <tr style=\"text-align: right;\">\n",
       "      <th></th>\n",
       "      <th>id</th>\n",
       "      <th>amount_tsh</th>\n",
       "      <th>gps_height</th>\n",
       "      <th>longitude</th>\n",
       "      <th>latitude</th>\n",
       "      <th>num_private</th>\n",
       "      <th>region_code</th>\n",
       "      <th>district_code</th>\n",
       "      <th>population</th>\n",
       "      <th>construction_year</th>\n",
       "    </tr>\n",
       "  </thead>\n",
       "  <tbody>\n",
       "    <tr>\n",
       "      <th>count</th>\n",
       "      <td>74250.000000</td>\n",
       "      <td>74250.000000</td>\n",
       "      <td>74250.000000</td>\n",
       "      <td>74250.000000</td>\n",
       "      <td>7.425000e+04</td>\n",
       "      <td>74250.000000</td>\n",
       "      <td>74250.000000</td>\n",
       "      <td>74250.000000</td>\n",
       "      <td>74250.000000</td>\n",
       "      <td>74250.000000</td>\n",
       "    </tr>\n",
       "    <tr>\n",
       "      <th>mean</th>\n",
       "      <td>37124.500000</td>\n",
       "      <td>318.685704</td>\n",
       "      <td>665.667313</td>\n",
       "      <td>34.074262</td>\n",
       "      <td>-5.701771e+00</td>\n",
       "      <td>0.462330</td>\n",
       "      <td>15.265414</td>\n",
       "      <td>5.629077</td>\n",
       "      <td>180.750828</td>\n",
       "      <td>1298.463650</td>\n",
       "    </tr>\n",
       "    <tr>\n",
       "      <th>std</th>\n",
       "      <td>21434.273081</td>\n",
       "      <td>2906.762364</td>\n",
       "      <td>692.761033</td>\n",
       "      <td>6.572519</td>\n",
       "      <td>2.944969e+00</td>\n",
       "      <td>11.537879</td>\n",
       "      <td>17.508907</td>\n",
       "      <td>9.641636</td>\n",
       "      <td>471.086120</td>\n",
       "      <td>952.349375</td>\n",
       "    </tr>\n",
       "    <tr>\n",
       "      <th>min</th>\n",
       "      <td>0.000000</td>\n",
       "      <td>0.000000</td>\n",
       "      <td>-90.000000</td>\n",
       "      <td>0.000000</td>\n",
       "      <td>-1.164944e+01</td>\n",
       "      <td>0.000000</td>\n",
       "      <td>1.000000</td>\n",
       "      <td>0.000000</td>\n",
       "      <td>0.000000</td>\n",
       "      <td>0.000000</td>\n",
       "    </tr>\n",
       "    <tr>\n",
       "      <th>25%</th>\n",
       "      <td>18562.250000</td>\n",
       "      <td>0.000000</td>\n",
       "      <td>0.000000</td>\n",
       "      <td>33.086819</td>\n",
       "      <td>-8.525675e+00</td>\n",
       "      <td>0.000000</td>\n",
       "      <td>5.000000</td>\n",
       "      <td>2.000000</td>\n",
       "      <td>0.000000</td>\n",
       "      <td>0.000000</td>\n",
       "    </tr>\n",
       "    <tr>\n",
       "      <th>50%</th>\n",
       "      <td>37124.500000</td>\n",
       "      <td>0.000000</td>\n",
       "      <td>364.000000</td>\n",
       "      <td>34.907475</td>\n",
       "      <td>-5.026540e+00</td>\n",
       "      <td>0.000000</td>\n",
       "      <td>12.000000</td>\n",
       "      <td>3.000000</td>\n",
       "      <td>25.000000</td>\n",
       "      <td>1986.000000</td>\n",
       "    </tr>\n",
       "    <tr>\n",
       "      <th>75%</th>\n",
       "      <td>55686.750000</td>\n",
       "      <td>20.000000</td>\n",
       "      <td>1317.000000</td>\n",
       "      <td>37.181685</td>\n",
       "      <td>-3.325058e+00</td>\n",
       "      <td>0.000000</td>\n",
       "      <td>17.000000</td>\n",
       "      <td>5.000000</td>\n",
       "      <td>215.000000</td>\n",
       "      <td>2004.000000</td>\n",
       "    </tr>\n",
       "    <tr>\n",
       "      <th>max</th>\n",
       "      <td>74249.000000</td>\n",
       "      <td>350000.000000</td>\n",
       "      <td>2777.000000</td>\n",
       "      <td>40.345193</td>\n",
       "      <td>-2.000000e-08</td>\n",
       "      <td>1776.000000</td>\n",
       "      <td>99.000000</td>\n",
       "      <td>80.000000</td>\n",
       "      <td>30500.000000</td>\n",
       "      <td>2013.000000</td>\n",
       "    </tr>\n",
       "  </tbody>\n",
       "</table>\n",
       "</div>"
      ],
      "text/plain": [
       "                 id     amount_tsh    gps_height     longitude      latitude  \\\n",
       "count  74250.000000   74250.000000  74250.000000  74250.000000  7.425000e+04   \n",
       "mean   37124.500000     318.685704    665.667313     34.074262 -5.701771e+00   \n",
       "std    21434.273081    2906.762364    692.761033      6.572519  2.944969e+00   \n",
       "min        0.000000       0.000000    -90.000000      0.000000 -1.164944e+01   \n",
       "25%    18562.250000       0.000000      0.000000     33.086819 -8.525675e+00   \n",
       "50%    37124.500000       0.000000    364.000000     34.907475 -5.026540e+00   \n",
       "75%    55686.750000      20.000000   1317.000000     37.181685 -3.325058e+00   \n",
       "max    74249.000000  350000.000000   2777.000000     40.345193 -2.000000e-08   \n",
       "\n",
       "        num_private   region_code  district_code    population  \\\n",
       "count  74250.000000  74250.000000   74250.000000  74250.000000   \n",
       "mean       0.462330     15.265414       5.629077    180.750828   \n",
       "std       11.537879     17.508907       9.641636    471.086120   \n",
       "min        0.000000      1.000000       0.000000      0.000000   \n",
       "25%        0.000000      5.000000       2.000000      0.000000   \n",
       "50%        0.000000     12.000000       3.000000     25.000000   \n",
       "75%        0.000000     17.000000       5.000000    215.000000   \n",
       "max     1776.000000     99.000000      80.000000  30500.000000   \n",
       "\n",
       "       construction_year  \n",
       "count       74250.000000  \n",
       "mean         1298.463650  \n",
       "std           952.349375  \n",
       "min             0.000000  \n",
       "25%             0.000000  \n",
       "50%          1986.000000  \n",
       "75%          2004.000000  \n",
       "max          2013.000000  "
      ]
     },
     "execution_count": 7,
     "metadata": {},
     "output_type": "execute_result"
    }
   ],
   "source": [
    "df.describe()"
   ]
  },
  {
   "cell_type": "markdown",
   "metadata": {},
   "source": [
    "Названия признаков с ненулевым кол-вом пропусков:"
   ]
  },
  {
   "cell_type": "code",
   "execution_count": 8,
   "metadata": {
    "scrolled": true
   },
   "outputs": [
    {
     "data": {
      "text/plain": [
       "[('funder', 4507),\n",
       " ('installer', 4532),\n",
       " ('wpt_name', 2),\n",
       " ('subvillage', 470),\n",
       " ('public_meeting', 4155),\n",
       " ('scheme_management', 4847),\n",
       " ('scheme_name', 36052),\n",
       " ('permit', 3793)]"
      ]
     },
     "execution_count": 8,
     "metadata": {},
     "output_type": "execute_result"
    }
   ],
   "source": [
    "[(df.columns[i], j) for i, j in enumerate(df.isnull().sum()) if j > 0]"
   ]
  },
  {
   "cell_type": "markdown",
   "metadata": {},
   "source": [
    "Количество уникальных значений по каждому признаку:"
   ]
  },
  {
   "cell_type": "code",
   "execution_count": 9,
   "metadata": {
    "scrolled": true
   },
   "outputs": [
    {
     "name": "stdout",
     "output_type": "stream",
     "text": [
      "id : 74250\n",
      "amount_tsh : 102\n",
      "date_recorded : 369\n",
      "funder : 2140\n",
      "gps_height : 2456\n",
      "installer : 2411\n",
      "longitude : 71870\n",
      "latitude : 71869\n",
      "wpt_name : 45684\n",
      "num_private : 68\n",
      "basin : 9\n",
      "subvillage : 21426\n",
      "region : 21\n",
      "region_code : 27\n",
      "district_code : 20\n",
      "lga : 125\n",
      "ward : 2098\n",
      "population : 1128\n",
      "public_meeting : 3\n",
      "recorded_by : 1\n",
      "scheme_management : 12\n",
      "scheme_name : 2868\n",
      "permit : 3\n",
      "construction_year : 55\n",
      "extraction_type : 18\n",
      "extraction_type_group : 13\n",
      "extraction_type_class : 7\n",
      "management : 12\n",
      "management_group : 5\n",
      "payment : 7\n",
      "payment_type : 7\n",
      "water_quality : 8\n",
      "quality_group : 6\n",
      "quantity : 5\n",
      "quantity_group : 5\n",
      "source : 10\n",
      "source_type : 7\n",
      "source_class : 3\n",
      "waterpoint_type : 7\n",
      "waterpoint_type_group : 6\n",
      "sample : 2\n"
     ]
    }
   ],
   "source": [
    "# уникальные значения\n",
    "columns_names = df.columns.to_list()\n",
    "for i in range(len(df.T)):\n",
    "    print (columns_names[i], \":\", len(df[columns_names[i]].unique()))"
   ]
  },
  {
   "cell_type": "markdown",
   "metadata": {},
   "source": [
    "По вышеописанным статистикам, **под удаление:**\n",
    "\n",
    "`recorded_by` – имеет одно уникальное значение\n",
    "\n",
    "`wpt_name` – имеет 45 тысяч уникальных значений"
   ]
  },
  {
   "cell_type": "code",
   "execution_count": 10,
   "metadata": {},
   "outputs": [
    {
     "data": {
      "text/plain": [
       "array([   0,   39,    5,   45,    6,    3,  698,   32,   15,    7,   25,\n",
       "        102,    1,   93,   14,   34,  120,   17,  213,   47,    8,   41,\n",
       "         80,  141,   20,   35,  131,    4,   22,   11,   87,   61,   65,\n",
       "        136,    2,  180,   38,   62,    9,   16,   23,   42,   24,   12,\n",
       "        668,  672,   58,  150,  280,  160,   50, 1776,   30,   27,   10,\n",
       "         94,   26,  450,  240,  755,   60,  111,  300,   55, 1402,  669,\n",
       "         13,  420])"
      ]
     },
     "execution_count": 10,
     "metadata": {},
     "output_type": "execute_result"
    }
   ],
   "source": [
    "df['num_private'].unique()"
   ]
  },
  {
   "cell_type": "code",
   "execution_count": 11,
   "metadata": {},
   "outputs": [
    {
     "data": {
      "text/plain": [
       "73299"
      ]
     },
     "execution_count": 11,
     "metadata": {},
     "output_type": "execute_result"
    }
   ],
   "source": [
    "len(df[\n",
    "    (df['num_private'] == 0)\n",
    "])"
   ]
  },
  {
   "cell_type": "markdown",
   "metadata": {},
   "source": [
    "`num_private` тоже **под удаление**, почти все данные имеют значение 0 в этой колонке."
   ]
  },
  {
   "cell_type": "markdown",
   "metadata": {},
   "source": [
    "Признак `subvillage` имеет очень много уникальных значений (21426) и применять к нему **one_hot_encoding** не резонно, но мы попробуем выжать максимум из данных. В дальнейшем, мы удалим неинформативные признаки. "
   ]
  },
  {
   "cell_type": "markdown",
   "metadata": {},
   "source": [
    "В фичах с пропущенными значениями мы сделаем отдельную категорию _\"my_uniq_na\"_."
   ]
  },
  {
   "cell_type": "markdown",
   "metadata": {},
   "source": [
    "# Feature Engineering"
   ]
  },
  {
   "cell_type": "markdown",
   "metadata": {},
   "source": [
    "`date_recorded` – дата проверки водяного насоса на пригодность, а `construction_year` – год постройки. Из этих двух фичей можно сделать новую –> `age`, которая будет отвечать за срок службы объекта. Для такой процедуры напишем специальную функцию, которой передаётся значения признаков, а возвращаемое значение = количество прослуженных лет."
   ]
  },
  {
   "cell_type": "code",
   "execution_count": 12,
   "metadata": {},
   "outputs": [],
   "source": [
    "def age(year1, year2):\n",
    "    recorded_year = datetime.strptime(year1, '%Y-%m-%d').date()\n",
    "    record = recorded_year.year\n",
    "    if year2 == 0: \n",
    "        return nan\n",
    "    else: \n",
    "        return record - year2"
   ]
  },
  {
   "cell_type": "markdown",
   "metadata": {},
   "source": [
    "Используя долготу и широту (`longitude`, `latitude`) создадим фичу `geohash`, которая будет отвечать также за географическое расположение объекта. Обрезав значение геохэша до трех знаков, получим около 50 уникальных значений для последующего **one_hot_encoding'a**."
   ]
  },
  {
   "cell_type": "code",
   "execution_count": 13,
   "metadata": {},
   "outputs": [],
   "source": [
    "# обрезает строку \n",
    "def cuter(s):\n",
    "    return s[0:3]"
   ]
  },
  {
   "cell_type": "markdown",
   "metadata": {},
   "source": [
    "# Function for Preprocessing"
   ]
  },
  {
   "cell_type": "markdown",
   "metadata": {},
   "source": [
    "Для удобства напишем специальную функцию для предобработки, в которой будут включены все действия над данными:"
   ]
  },
  {
   "cell_type": "code",
   "execution_count": 14,
   "metadata": {},
   "outputs": [],
   "source": [
    "def data_preprocessing(df_input):\n",
    "    df = df_input.copy()\n",
    "    #df.reset_index(inplace=True)\n",
    "    \n",
    "    df['age'] = df.apply(lambda x: age(x['date_recorded'], x['construction_year']), axis= 1)\n",
    "    df['age'] = df['age'].fillna(df['age'].mean())\n",
    "    \n",
    "    df.drop(columns = ['date_recorded', 'construction_year', 'wpt_name', 'num_private',\n",
    "                       'recorded_by'], inplace=True)\n",
    "    \n",
    "    df['geohash'] = df.apply(lambda x : \n",
    "                             gh.encode(x.latitude, x.longitude, precision=5), axis=1)\n",
    "    df['geohash'] = df['geohash'].map(cuter)\n",
    "    \n",
    "    numeric_cols = ['amount_tsh', 'gps_height', 'longitude',\n",
    "                    'latitude', 'population', 'age']\n",
    "    \n",
    "    categorical_cols = list(set(df.columns.values.tolist()) - set(numeric_cols))\n",
    "    \n",
    "    \n",
    "    #categorical_cols.append('region_code')\n",
    "    #categorical_cols.append('district_code')\n",
    "    \n",
    "    categorical_cols.remove('id')\n",
    "    \n",
    "    categorical_cols.remove('sample')\n",
    "    \n",
    "    \n",
    "    #for i in range(len(categorical_cols)):\n",
    "        #print (categorical_cols[i])\n",
    "    \n",
    "    X_cat = (df[categorical_cols]).fillna('my_uniq_na')\n",
    "    X_cat = X_cat.astype(str)\n",
    "    \n",
    "    one_hot = pd.get_dummies(X_cat)\n",
    "    df = df.drop(categorical_cols,axis = 1)\n",
    "    df = df.join(one_hot)\n",
    "    \n",
    "    return df"
   ]
  },
  {
   "cell_type": "markdown",
   "metadata": {},
   "source": [
    "Эта функция возвращает датафрейм с удалёнными `date_recorded`, `construction_year`, `wpt_name`, `num_private`, `recorded_by` ; с новыми `age` и `geohash` ; ко всем категориальным признакам применяется метод **one_hot_encoding**, а пропущенные значения в таких признаках заменяются на уникальную категорию _\"my_uniq\"_ ;"
   ]
  },
  {
   "cell_type": "code",
   "execution_count": 15,
   "metadata": {},
   "outputs": [],
   "source": [
    "df_new = df.pipe(data_preprocessing)"
   ]
  },
  {
   "cell_type": "code",
   "execution_count": 16,
   "metadata": {},
   "outputs": [
    {
     "data": {
      "text/html": [
       "<div>\n",
       "<style scoped>\n",
       "    .dataframe tbody tr th:only-of-type {\n",
       "        vertical-align: middle;\n",
       "    }\n",
       "\n",
       "    .dataframe tbody tr th {\n",
       "        vertical-align: top;\n",
       "    }\n",
       "\n",
       "    .dataframe thead th {\n",
       "        text-align: right;\n",
       "    }\n",
       "</style>\n",
       "<table border=\"1\" class=\"dataframe\">\n",
       "  <thead>\n",
       "    <tr style=\"text-align: right;\">\n",
       "      <th></th>\n",
       "      <th>id</th>\n",
       "      <th>amount_tsh</th>\n",
       "      <th>gps_height</th>\n",
       "      <th>longitude</th>\n",
       "      <th>latitude</th>\n",
       "      <th>population</th>\n",
       "      <th>sample</th>\n",
       "      <th>age</th>\n",
       "      <th>ward_Aghondi</th>\n",
       "      <th>ward_Akheri</th>\n",
       "      <th>...</th>\n",
       "      <th>district_code_5</th>\n",
       "      <th>district_code_53</th>\n",
       "      <th>district_code_6</th>\n",
       "      <th>district_code_60</th>\n",
       "      <th>district_code_62</th>\n",
       "      <th>district_code_63</th>\n",
       "      <th>district_code_67</th>\n",
       "      <th>district_code_7</th>\n",
       "      <th>district_code_8</th>\n",
       "      <th>district_code_80</th>\n",
       "    </tr>\n",
       "  </thead>\n",
       "  <tbody>\n",
       "    <tr>\n",
       "      <th>0</th>\n",
       "      <td>69572</td>\n",
       "      <td>6000.0</td>\n",
       "      <td>1390</td>\n",
       "      <td>34.938093</td>\n",
       "      <td>-9.856322</td>\n",
       "      <td>109</td>\n",
       "      <td>train</td>\n",
       "      <td>12.000000</td>\n",
       "      <td>False</td>\n",
       "      <td>False</td>\n",
       "      <td>...</td>\n",
       "      <td>True</td>\n",
       "      <td>False</td>\n",
       "      <td>False</td>\n",
       "      <td>False</td>\n",
       "      <td>False</td>\n",
       "      <td>False</td>\n",
       "      <td>False</td>\n",
       "      <td>False</td>\n",
       "      <td>False</td>\n",
       "      <td>False</td>\n",
       "    </tr>\n",
       "    <tr>\n",
       "      <th>1</th>\n",
       "      <td>8776</td>\n",
       "      <td>0.0</td>\n",
       "      <td>1399</td>\n",
       "      <td>34.698766</td>\n",
       "      <td>-2.147466</td>\n",
       "      <td>280</td>\n",
       "      <td>train</td>\n",
       "      <td>3.000000</td>\n",
       "      <td>False</td>\n",
       "      <td>False</td>\n",
       "      <td>...</td>\n",
       "      <td>False</td>\n",
       "      <td>False</td>\n",
       "      <td>False</td>\n",
       "      <td>False</td>\n",
       "      <td>False</td>\n",
       "      <td>False</td>\n",
       "      <td>False</td>\n",
       "      <td>False</td>\n",
       "      <td>False</td>\n",
       "      <td>False</td>\n",
       "    </tr>\n",
       "    <tr>\n",
       "      <th>2</th>\n",
       "      <td>34310</td>\n",
       "      <td>25.0</td>\n",
       "      <td>686</td>\n",
       "      <td>37.460664</td>\n",
       "      <td>-3.821329</td>\n",
       "      <td>250</td>\n",
       "      <td>train</td>\n",
       "      <td>4.000000</td>\n",
       "      <td>False</td>\n",
       "      <td>False</td>\n",
       "      <td>...</td>\n",
       "      <td>False</td>\n",
       "      <td>False</td>\n",
       "      <td>False</td>\n",
       "      <td>False</td>\n",
       "      <td>False</td>\n",
       "      <td>False</td>\n",
       "      <td>False</td>\n",
       "      <td>False</td>\n",
       "      <td>False</td>\n",
       "      <td>False</td>\n",
       "    </tr>\n",
       "    <tr>\n",
       "      <th>3</th>\n",
       "      <td>67743</td>\n",
       "      <td>0.0</td>\n",
       "      <td>263</td>\n",
       "      <td>38.486161</td>\n",
       "      <td>-11.155298</td>\n",
       "      <td>58</td>\n",
       "      <td>train</td>\n",
       "      <td>27.000000</td>\n",
       "      <td>False</td>\n",
       "      <td>False</td>\n",
       "      <td>...</td>\n",
       "      <td>False</td>\n",
       "      <td>False</td>\n",
       "      <td>False</td>\n",
       "      <td>False</td>\n",
       "      <td>False</td>\n",
       "      <td>True</td>\n",
       "      <td>False</td>\n",
       "      <td>False</td>\n",
       "      <td>False</td>\n",
       "      <td>False</td>\n",
       "    </tr>\n",
       "    <tr>\n",
       "      <th>4</th>\n",
       "      <td>19728</td>\n",
       "      <td>0.0</td>\n",
       "      <td>0</td>\n",
       "      <td>31.130847</td>\n",
       "      <td>-1.825359</td>\n",
       "      <td>0</td>\n",
       "      <td>train</td>\n",
       "      <td>15.295624</td>\n",
       "      <td>False</td>\n",
       "      <td>False</td>\n",
       "      <td>...</td>\n",
       "      <td>False</td>\n",
       "      <td>False</td>\n",
       "      <td>False</td>\n",
       "      <td>False</td>\n",
       "      <td>False</td>\n",
       "      <td>False</td>\n",
       "      <td>False</td>\n",
       "      <td>False</td>\n",
       "      <td>False</td>\n",
       "      <td>False</td>\n",
       "    </tr>\n",
       "  </tbody>\n",
       "</table>\n",
       "<p>5 rows × 31353 columns</p>\n",
       "</div>"
      ],
      "text/plain": [
       "      id  amount_tsh  gps_height  longitude   latitude  population sample  \\\n",
       "0  69572      6000.0        1390  34.938093  -9.856322         109  train   \n",
       "1   8776         0.0        1399  34.698766  -2.147466         280  train   \n",
       "2  34310        25.0         686  37.460664  -3.821329         250  train   \n",
       "3  67743         0.0         263  38.486161 -11.155298          58  train   \n",
       "4  19728         0.0           0  31.130847  -1.825359           0  train   \n",
       "\n",
       "         age  ward_Aghondi  ward_Akheri  ...  district_code_5  \\\n",
       "0  12.000000         False        False  ...             True   \n",
       "1   3.000000         False        False  ...            False   \n",
       "2   4.000000         False        False  ...            False   \n",
       "3  27.000000         False        False  ...            False   \n",
       "4  15.295624         False        False  ...            False   \n",
       "\n",
       "   district_code_53  district_code_6  district_code_60  district_code_62  \\\n",
       "0             False            False             False             False   \n",
       "1             False            False             False             False   \n",
       "2             False            False             False             False   \n",
       "3             False            False             False             False   \n",
       "4             False            False             False             False   \n",
       "\n",
       "   district_code_63  district_code_67  district_code_7  district_code_8  \\\n",
       "0             False             False            False            False   \n",
       "1             False             False            False            False   \n",
       "2             False             False            False            False   \n",
       "3              True             False            False            False   \n",
       "4             False             False            False            False   \n",
       "\n",
       "   district_code_80  \n",
       "0             False  \n",
       "1             False  \n",
       "2             False  \n",
       "3             False  \n",
       "4             False  \n",
       "\n",
       "[5 rows x 31353 columns]"
      ]
     },
     "execution_count": 16,
     "metadata": {},
     "output_type": "execute_result"
    }
   ],
   "source": [
    "df_new.head(5)"
   ]
  },
  {
   "cell_type": "markdown",
   "metadata": {},
   "source": [
    "Следующий код изменяет названия колонок в датафрейме на правильные: убирает некоторые символы _\"[ , ] < $\"_ . Это необходимо для обучения **xgboost**."
   ]
  },
  {
   "cell_type": "code",
   "execution_count": 17,
   "metadata": {},
   "outputs": [],
   "source": [
    "mylist = df_new.columns.values.tolist()\n",
    "\n",
    "def change_col(mylist):\n",
    "    dictionary = dict()\n",
    "    arr = ['[', ',', ']', '<', '$']\n",
    "    for i in range(len(mylist)):\n",
    "        key = mylist[i]\n",
    "        name = mylist[i]\n",
    "        for x in arr:\n",
    "            name = name.replace(x, \"__\")\n",
    "        dictionary[key] = name\n",
    "    return dictionary\n",
    "\n",
    "dictionary = change_col(mylist)\n",
    "df_new.rename(columns = dictionary, inplace=True)"
   ]
  },
  {
   "cell_type": "markdown",
   "metadata": {},
   "source": [
    "Отделим обучение и тест:"
   ]
  },
  {
   "cell_type": "code",
   "execution_count": 18,
   "metadata": {},
   "outputs": [],
   "source": [
    "train = df_new[df_new['sample']=='train'].drop(columns='sample')\n",
    "test = df_new[df_new['sample']=='test'].drop(columns='sample')"
   ]
  },
  {
   "cell_type": "markdown",
   "metadata": {},
   "source": [
    "По итогу, получилось 31354 признаков."
   ]
  },
  {
   "cell_type": "code",
   "execution_count": 19,
   "metadata": {
    "scrolled": true
   },
   "outputs": [
    {
     "data": {
      "text/plain": [
       "(59400, 31352)"
      ]
     },
     "execution_count": 19,
     "metadata": {},
     "output_type": "execute_result"
    }
   ],
   "source": [
    "train.shape"
   ]
  },
  {
   "cell_type": "code",
   "execution_count": 20,
   "metadata": {},
   "outputs": [],
   "source": [
    "X_train = train[train.columns[1:]]"
   ]
  },
  {
   "cell_type": "code",
   "execution_count": 21,
   "metadata": {},
   "outputs": [
    {
     "data": {
      "text/plain": [
       "(59400, 31351)"
      ]
     },
     "execution_count": 21,
     "metadata": {},
     "output_type": "execute_result"
    }
   ],
   "source": [
    "X_train.shape"
   ]
  },
  {
   "cell_type": "code",
   "execution_count": 22,
   "metadata": {},
   "outputs": [
    {
     "data": {
      "text/plain": [
       "0            functional\n",
       "1            functional\n",
       "2            functional\n",
       "3        non functional\n",
       "4            functional\n",
       "              ...      \n",
       "59395        functional\n",
       "59396        functional\n",
       "59397        functional\n",
       "59398        functional\n",
       "59399        functional\n",
       "Name: status_group, Length: 59400, dtype: object"
      ]
     },
     "execution_count": 22,
     "metadata": {},
     "output_type": "execute_result"
    }
   ],
   "source": [
    "y_train"
   ]
  },
  {
   "cell_type": "code",
   "execution_count": 23,
   "metadata": {},
   "outputs": [
    {
     "data": {
      "text/html": [
       "<div>\n",
       "<style scoped>\n",
       "    .dataframe tbody tr th:only-of-type {\n",
       "        vertical-align: middle;\n",
       "    }\n",
       "\n",
       "    .dataframe tbody tr th {\n",
       "        vertical-align: top;\n",
       "    }\n",
       "\n",
       "    .dataframe thead th {\n",
       "        text-align: right;\n",
       "    }\n",
       "</style>\n",
       "<table border=\"1\" class=\"dataframe\">\n",
       "  <thead>\n",
       "    <tr style=\"text-align: right;\">\n",
       "      <th></th>\n",
       "      <th>amount_tsh</th>\n",
       "      <th>gps_height</th>\n",
       "      <th>longitude</th>\n",
       "      <th>latitude</th>\n",
       "      <th>population</th>\n",
       "      <th>age</th>\n",
       "      <th>ward_Aghondi</th>\n",
       "      <th>ward_Akheri</th>\n",
       "      <th>ward_Arash</th>\n",
       "      <th>ward_Arri</th>\n",
       "      <th>...</th>\n",
       "      <th>district_code_5</th>\n",
       "      <th>district_code_53</th>\n",
       "      <th>district_code_6</th>\n",
       "      <th>district_code_60</th>\n",
       "      <th>district_code_62</th>\n",
       "      <th>district_code_63</th>\n",
       "      <th>district_code_67</th>\n",
       "      <th>district_code_7</th>\n",
       "      <th>district_code_8</th>\n",
       "      <th>district_code_80</th>\n",
       "    </tr>\n",
       "  </thead>\n",
       "  <tbody>\n",
       "    <tr>\n",
       "      <th>0</th>\n",
       "      <td>6000.0</td>\n",
       "      <td>1390</td>\n",
       "      <td>34.938093</td>\n",
       "      <td>-9.856322</td>\n",
       "      <td>109</td>\n",
       "      <td>12.000000</td>\n",
       "      <td>False</td>\n",
       "      <td>False</td>\n",
       "      <td>False</td>\n",
       "      <td>False</td>\n",
       "      <td>...</td>\n",
       "      <td>True</td>\n",
       "      <td>False</td>\n",
       "      <td>False</td>\n",
       "      <td>False</td>\n",
       "      <td>False</td>\n",
       "      <td>False</td>\n",
       "      <td>False</td>\n",
       "      <td>False</td>\n",
       "      <td>False</td>\n",
       "      <td>False</td>\n",
       "    </tr>\n",
       "    <tr>\n",
       "      <th>1</th>\n",
       "      <td>0.0</td>\n",
       "      <td>1399</td>\n",
       "      <td>34.698766</td>\n",
       "      <td>-2.147466</td>\n",
       "      <td>280</td>\n",
       "      <td>3.000000</td>\n",
       "      <td>False</td>\n",
       "      <td>False</td>\n",
       "      <td>False</td>\n",
       "      <td>False</td>\n",
       "      <td>...</td>\n",
       "      <td>False</td>\n",
       "      <td>False</td>\n",
       "      <td>False</td>\n",
       "      <td>False</td>\n",
       "      <td>False</td>\n",
       "      <td>False</td>\n",
       "      <td>False</td>\n",
       "      <td>False</td>\n",
       "      <td>False</td>\n",
       "      <td>False</td>\n",
       "    </tr>\n",
       "    <tr>\n",
       "      <th>2</th>\n",
       "      <td>25.0</td>\n",
       "      <td>686</td>\n",
       "      <td>37.460664</td>\n",
       "      <td>-3.821329</td>\n",
       "      <td>250</td>\n",
       "      <td>4.000000</td>\n",
       "      <td>False</td>\n",
       "      <td>False</td>\n",
       "      <td>False</td>\n",
       "      <td>False</td>\n",
       "      <td>...</td>\n",
       "      <td>False</td>\n",
       "      <td>False</td>\n",
       "      <td>False</td>\n",
       "      <td>False</td>\n",
       "      <td>False</td>\n",
       "      <td>False</td>\n",
       "      <td>False</td>\n",
       "      <td>False</td>\n",
       "      <td>False</td>\n",
       "      <td>False</td>\n",
       "    </tr>\n",
       "    <tr>\n",
       "      <th>3</th>\n",
       "      <td>0.0</td>\n",
       "      <td>263</td>\n",
       "      <td>38.486161</td>\n",
       "      <td>-11.155298</td>\n",
       "      <td>58</td>\n",
       "      <td>27.000000</td>\n",
       "      <td>False</td>\n",
       "      <td>False</td>\n",
       "      <td>False</td>\n",
       "      <td>False</td>\n",
       "      <td>...</td>\n",
       "      <td>False</td>\n",
       "      <td>False</td>\n",
       "      <td>False</td>\n",
       "      <td>False</td>\n",
       "      <td>False</td>\n",
       "      <td>True</td>\n",
       "      <td>False</td>\n",
       "      <td>False</td>\n",
       "      <td>False</td>\n",
       "      <td>False</td>\n",
       "    </tr>\n",
       "    <tr>\n",
       "      <th>4</th>\n",
       "      <td>0.0</td>\n",
       "      <td>0</td>\n",
       "      <td>31.130847</td>\n",
       "      <td>-1.825359</td>\n",
       "      <td>0</td>\n",
       "      <td>15.295624</td>\n",
       "      <td>False</td>\n",
       "      <td>False</td>\n",
       "      <td>False</td>\n",
       "      <td>False</td>\n",
       "      <td>...</td>\n",
       "      <td>False</td>\n",
       "      <td>False</td>\n",
       "      <td>False</td>\n",
       "      <td>False</td>\n",
       "      <td>False</td>\n",
       "      <td>False</td>\n",
       "      <td>False</td>\n",
       "      <td>False</td>\n",
       "      <td>False</td>\n",
       "      <td>False</td>\n",
       "    </tr>\n",
       "  </tbody>\n",
       "</table>\n",
       "<p>5 rows × 31351 columns</p>\n",
       "</div>"
      ],
      "text/plain": [
       "   amount_tsh  gps_height  longitude   latitude  population        age  \\\n",
       "0      6000.0        1390  34.938093  -9.856322         109  12.000000   \n",
       "1         0.0        1399  34.698766  -2.147466         280   3.000000   \n",
       "2        25.0         686  37.460664  -3.821329         250   4.000000   \n",
       "3         0.0         263  38.486161 -11.155298          58  27.000000   \n",
       "4         0.0           0  31.130847  -1.825359           0  15.295624   \n",
       "\n",
       "   ward_Aghondi  ward_Akheri  ward_Arash  ward_Arri  ...  district_code_5  \\\n",
       "0         False        False       False      False  ...             True   \n",
       "1         False        False       False      False  ...            False   \n",
       "2         False        False       False      False  ...            False   \n",
       "3         False        False       False      False  ...            False   \n",
       "4         False        False       False      False  ...            False   \n",
       "\n",
       "   district_code_53  district_code_6  district_code_60  district_code_62  \\\n",
       "0             False            False             False             False   \n",
       "1             False            False             False             False   \n",
       "2             False            False             False             False   \n",
       "3             False            False             False             False   \n",
       "4             False            False             False             False   \n",
       "\n",
       "   district_code_63  district_code_67  district_code_7  district_code_8  \\\n",
       "0             False             False            False            False   \n",
       "1             False             False            False            False   \n",
       "2             False             False            False            False   \n",
       "3              True             False            False            False   \n",
       "4             False             False            False            False   \n",
       "\n",
       "   district_code_80  \n",
       "0             False  \n",
       "1             False  \n",
       "2             False  \n",
       "3             False  \n",
       "4             False  \n",
       "\n",
       "[5 rows x 31351 columns]"
      ]
     },
     "execution_count": 23,
     "metadata": {},
     "output_type": "execute_result"
    }
   ],
   "source": [
    "X_train.head()"
   ]
  },
  {
   "cell_type": "markdown",
   "metadata": {},
   "source": [
    "И закодируем наш таргет с помощью `LabelEncoder`:"
   ]
  },
  {
   "cell_type": "code",
   "execution_count": 24,
   "metadata": {},
   "outputs": [],
   "source": [
    "# таргет необходимо перевести из строкового типа в целочисленный\n",
    "le_tar = LabelEncoder()\n",
    "y_train = le_tar.fit_transform(y_train)"
   ]
  },
  {
   "cell_type": "markdown",
   "metadata": {},
   "source": [
    "# Feature Selection"
   ]
  },
  {
   "cell_type": "markdown",
   "metadata": {},
   "source": [
    "Проведём **несложный отбор** информативных признаков для дальнейшего обучения моделей, воспользовавшись атрибутом `feature_importances_` в градиентном бустинге `XGBClassifier`. Обучим классификатор с параметрами по умолчанию, на всех признаках:"
   ]
  },
  {
   "cell_type": "code",
   "execution_count": 26,
   "metadata": {},
   "outputs": [],
   "source": [
    "# setattr(pandas, \"Int64Index\", pandas.Index)"
   ]
  },
  {
   "cell_type": "code",
   "execution_count": 25,
   "metadata": {},
   "outputs": [],
   "source": [
    "model = XGBClassifier()"
   ]
  },
  {
   "cell_type": "code",
   "execution_count": 27,
   "metadata": {
    "scrolled": true
   },
   "outputs": [],
   "source": [
    "model.fit(X_train, y_train)"
   ]
  },
  {
   "cell_type": "markdown",
   "metadata": {},
   "source": [
    "Создадим список фичей, которые имеют **показатель информативности не равный нулю** и запишем в файл этот список:"
   ]
  },
  {
   "cell_type": "code",
   "execution_count": 28,
   "metadata": {
    "scrolled": true
   },
   "outputs": [],
   "source": [
    "mycolumns = X_train.columns.values.tolist()\n",
    "imp_feat = []\n",
    "dictionary = dict()\n",
    "for i in range(len(model.feature_importances_)):\n",
    "    if model.feature_importances_[i] != 0:\n",
    "        value = model.feature_importances_[i]\n",
    "        key = mycolumns[i]\n",
    "        dictionary[key] = value\n",
    "        imp_feat.append(key)\n",
    "        print(key, value)"
   ]
  },
  {
   "cell_type": "code",
   "execution_count": 29,
   "metadata": {},
   "outputs": [],
   "source": [
    "# сохранить фичи в файл\n",
    "features = pd.DataFrame.from_dict(dictionary, orient='index')\n",
    "features.reset_index(level=0, inplace=True)\n",
    "col_names = ['feature', 'importance']\n",
    "features.columns = col_names"
   ]
  },
  {
   "cell_type": "code",
   "execution_count": 31,
   "metadata": {
    "scrolled": true
   },
   "outputs": [
    {
     "data": {
      "text/html": [
       "<div>\n",
       "<style scoped>\n",
       "    .dataframe tbody tr th:only-of-type {\n",
       "        vertical-align: middle;\n",
       "    }\n",
       "\n",
       "    .dataframe tbody tr th {\n",
       "        vertical-align: top;\n",
       "    }\n",
       "\n",
       "    .dataframe thead th {\n",
       "        text-align: right;\n",
       "    }\n",
       "</style>\n",
       "<table border=\"1\" class=\"dataframe\">\n",
       "  <thead>\n",
       "    <tr style=\"text-align: right;\">\n",
       "      <th></th>\n",
       "      <th>feature</th>\n",
       "      <th>importance</th>\n",
       "    </tr>\n",
       "  </thead>\n",
       "  <tbody>\n",
       "    <tr>\n",
       "      <th>0</th>\n",
       "      <td>amount_tsh</td>\n",
       "      <td>0.002472</td>\n",
       "    </tr>\n",
       "    <tr>\n",
       "      <th>1</th>\n",
       "      <td>gps_height</td>\n",
       "      <td>0.000391</td>\n",
       "    </tr>\n",
       "    <tr>\n",
       "      <th>2</th>\n",
       "      <td>longitude</td>\n",
       "      <td>0.001089</td>\n",
       "    </tr>\n",
       "  </tbody>\n",
       "</table>\n",
       "</div>"
      ],
      "text/plain": [
       "      feature  importance\n",
       "0  amount_tsh    0.002472\n",
       "1  gps_height    0.000391\n",
       "2   longitude    0.001089"
      ]
     },
     "execution_count": 31,
     "metadata": {},
     "output_type": "execute_result"
    }
   ],
   "source": [
    "features.head(3)"
   ]
  },
  {
   "cell_type": "code",
   "execution_count": 32,
   "metadata": {},
   "outputs": [],
   "source": [
    "features_csv = pd.DataFrame(zip(features['feature'], features['importance']), \n",
    "                    columns = ['feature', 'importance']).to_csv('importance_features.csv',\n",
    "                                                                  sep=',',\n",
    "                                                                  index=False)"
   ]
  },
  {
   "cell_type": "code",
   "execution_count": null,
   "metadata": {},
   "outputs": [],
   "source": []
  },
  {
   "cell_type": "code",
   "execution_count": 30,
   "metadata": {},
   "outputs": [],
   "source": [
    "# открытие файла\n",
    "imp_f = pd.read_csv('importance_features.csv', sep=',')\n",
    "imp_feat = imp_f['feature'].to_list()"
   ]
  },
  {
   "cell_type": "markdown",
   "metadata": {},
   "source": [
    "Из 31354 отобрали 233 признака:"
   ]
  },
  {
   "cell_type": "code",
   "execution_count": 31,
   "metadata": {},
   "outputs": [
    {
     "name": "stdout",
     "output_type": "stream",
     "text": [
      "233\n"
     ]
    }
   ],
   "source": [
    "print(len(imp_feat)) #было 233"
   ]
  },
  {
   "cell_type": "markdown",
   "metadata": {},
   "source": [
    "Сравним качество бустинга, обученного на всём признаковом пространстве, с обученным только на информативных признаках: "
   ]
  },
  {
   "cell_type": "code",
   "execution_count": 43,
   "metadata": {},
   "outputs": [],
   "source": [
    "xgb = XGBClassifier()"
   ]
  },
  {
   "cell_type": "code",
   "execution_count": 44,
   "metadata": {},
   "outputs": [],
   "source": [
    "X_small = X_train[:30000]\n",
    "y_small = y_train[:30000]"
   ]
  },
  {
   "cell_type": "code",
   "execution_count": 45,
   "metadata": {},
   "outputs": [
    {
     "name": "stdout",
     "output_type": "stream",
     "text": [
      "0.7917666666666667\n"
     ]
    }
   ],
   "source": [
    "print(cross_val_score(xgb, X_small[imp_feat], y_small, scoring = 'accuracy', cv=5).mean())"
   ]
  },
  {
   "cell_type": "code",
   "execution_count": 46,
   "metadata": {},
   "outputs": [
    {
     "name": "stdout",
     "output_type": "stream",
     "text": [
      "0.7886\n"
     ]
    }
   ],
   "source": [
    "print(cross_val_score(xgb, X_small, y_small, scoring = 'accuracy', cv=5).mean())"
   ]
  },
  {
   "cell_type": "markdown",
   "metadata": {},
   "source": [
    "Как видим, мы **ничего не теряем**, если **убрать неинформативные признаки** и обучаться только на информативных."
   ]
  },
  {
   "cell_type": "markdown",
   "metadata": {},
   "source": [
    "А теперь начнём обучать модели на новом признаковом пространстве: "
   ]
  },
  {
   "cell_type": "code",
   "execution_count": 32,
   "metadata": {},
   "outputs": [],
   "source": [
    "X_tr = X_train[imp_feat]"
   ]
  },
  {
   "cell_type": "code",
   "execution_count": 33,
   "metadata": {},
   "outputs": [
    {
     "data": {
      "text/html": [
       "<div>\n",
       "<style scoped>\n",
       "    .dataframe tbody tr th:only-of-type {\n",
       "        vertical-align: middle;\n",
       "    }\n",
       "\n",
       "    .dataframe tbody tr th {\n",
       "        vertical-align: top;\n",
       "    }\n",
       "\n",
       "    .dataframe thead th {\n",
       "        text-align: right;\n",
       "    }\n",
       "</style>\n",
       "<table border=\"1\" class=\"dataframe\">\n",
       "  <thead>\n",
       "    <tr style=\"text-align: right;\">\n",
       "      <th></th>\n",
       "      <th>amount_tsh</th>\n",
       "      <th>gps_height</th>\n",
       "      <th>longitude</th>\n",
       "      <th>latitude</th>\n",
       "      <th>population</th>\n",
       "      <th>age</th>\n",
       "      <th>district_code_1</th>\n",
       "      <th>district_code_2</th>\n",
       "      <th>district_code_30</th>\n",
       "      <th>district_code_33</th>\n",
       "      <th>...</th>\n",
       "      <th>scheme_name_wanging'ombe water supply s</th>\n",
       "      <th>geohash_kxr</th>\n",
       "      <th>geohash_kxx</th>\n",
       "      <th>geohash_ky2</th>\n",
       "      <th>geohash_ky5</th>\n",
       "      <th>geohash_ky7</th>\n",
       "      <th>geohash_kyg</th>\n",
       "      <th>geohash_kz0</th>\n",
       "      <th>geohash_kz5</th>\n",
       "      <th>geohash_kz8</th>\n",
       "    </tr>\n",
       "  </thead>\n",
       "  <tbody>\n",
       "    <tr>\n",
       "      <th>0</th>\n",
       "      <td>6000.0</td>\n",
       "      <td>1390</td>\n",
       "      <td>34.938093</td>\n",
       "      <td>-9.856322</td>\n",
       "      <td>109</td>\n",
       "      <td>12.000000</td>\n",
       "      <td>False</td>\n",
       "      <td>False</td>\n",
       "      <td>False</td>\n",
       "      <td>False</td>\n",
       "      <td>...</td>\n",
       "      <td>False</td>\n",
       "      <td>False</td>\n",
       "      <td>False</td>\n",
       "      <td>False</td>\n",
       "      <td>False</td>\n",
       "      <td>False</td>\n",
       "      <td>False</td>\n",
       "      <td>False</td>\n",
       "      <td>False</td>\n",
       "      <td>False</td>\n",
       "    </tr>\n",
       "    <tr>\n",
       "      <th>1</th>\n",
       "      <td>0.0</td>\n",
       "      <td>1399</td>\n",
       "      <td>34.698766</td>\n",
       "      <td>-2.147466</td>\n",
       "      <td>280</td>\n",
       "      <td>3.000000</td>\n",
       "      <td>False</td>\n",
       "      <td>True</td>\n",
       "      <td>False</td>\n",
       "      <td>False</td>\n",
       "      <td>...</td>\n",
       "      <td>False</td>\n",
       "      <td>False</td>\n",
       "      <td>False</td>\n",
       "      <td>False</td>\n",
       "      <td>False</td>\n",
       "      <td>False</td>\n",
       "      <td>False</td>\n",
       "      <td>False</td>\n",
       "      <td>False</td>\n",
       "      <td>True</td>\n",
       "    </tr>\n",
       "    <tr>\n",
       "      <th>2</th>\n",
       "      <td>25.0</td>\n",
       "      <td>686</td>\n",
       "      <td>37.460664</td>\n",
       "      <td>-3.821329</td>\n",
       "      <td>250</td>\n",
       "      <td>4.000000</td>\n",
       "      <td>False</td>\n",
       "      <td>False</td>\n",
       "      <td>False</td>\n",
       "      <td>False</td>\n",
       "      <td>...</td>\n",
       "      <td>False</td>\n",
       "      <td>False</td>\n",
       "      <td>False</td>\n",
       "      <td>False</td>\n",
       "      <td>False</td>\n",
       "      <td>False</td>\n",
       "      <td>False</td>\n",
       "      <td>False</td>\n",
       "      <td>False</td>\n",
       "      <td>False</td>\n",
       "    </tr>\n",
       "    <tr>\n",
       "      <th>3</th>\n",
       "      <td>0.0</td>\n",
       "      <td>263</td>\n",
       "      <td>38.486161</td>\n",
       "      <td>-11.155298</td>\n",
       "      <td>58</td>\n",
       "      <td>27.000000</td>\n",
       "      <td>False</td>\n",
       "      <td>False</td>\n",
       "      <td>False</td>\n",
       "      <td>False</td>\n",
       "      <td>...</td>\n",
       "      <td>False</td>\n",
       "      <td>False</td>\n",
       "      <td>False</td>\n",
       "      <td>False</td>\n",
       "      <td>True</td>\n",
       "      <td>False</td>\n",
       "      <td>False</td>\n",
       "      <td>False</td>\n",
       "      <td>False</td>\n",
       "      <td>False</td>\n",
       "    </tr>\n",
       "    <tr>\n",
       "      <th>4</th>\n",
       "      <td>0.0</td>\n",
       "      <td>0</td>\n",
       "      <td>31.130847</td>\n",
       "      <td>-1.825359</td>\n",
       "      <td>0</td>\n",
       "      <td>15.295624</td>\n",
       "      <td>True</td>\n",
       "      <td>False</td>\n",
       "      <td>False</td>\n",
       "      <td>False</td>\n",
       "      <td>...</td>\n",
       "      <td>False</td>\n",
       "      <td>False</td>\n",
       "      <td>False</td>\n",
       "      <td>False</td>\n",
       "      <td>False</td>\n",
       "      <td>False</td>\n",
       "      <td>False</td>\n",
       "      <td>False</td>\n",
       "      <td>False</td>\n",
       "      <td>False</td>\n",
       "    </tr>\n",
       "    <tr>\n",
       "      <th>...</th>\n",
       "      <td>...</td>\n",
       "      <td>...</td>\n",
       "      <td>...</td>\n",
       "      <td>...</td>\n",
       "      <td>...</td>\n",
       "      <td>...</td>\n",
       "      <td>...</td>\n",
       "      <td>...</td>\n",
       "      <td>...</td>\n",
       "      <td>...</td>\n",
       "      <td>...</td>\n",
       "      <td>...</td>\n",
       "      <td>...</td>\n",
       "      <td>...</td>\n",
       "      <td>...</td>\n",
       "      <td>...</td>\n",
       "      <td>...</td>\n",
       "      <td>...</td>\n",
       "      <td>...</td>\n",
       "      <td>...</td>\n",
       "      <td>...</td>\n",
       "    </tr>\n",
       "    <tr>\n",
       "      <th>59395</th>\n",
       "      <td>10.0</td>\n",
       "      <td>1210</td>\n",
       "      <td>37.169807</td>\n",
       "      <td>-3.253847</td>\n",
       "      <td>125</td>\n",
       "      <td>14.000000</td>\n",
       "      <td>False</td>\n",
       "      <td>False</td>\n",
       "      <td>False</td>\n",
       "      <td>False</td>\n",
       "      <td>...</td>\n",
       "      <td>False</td>\n",
       "      <td>False</td>\n",
       "      <td>False</td>\n",
       "      <td>False</td>\n",
       "      <td>False</td>\n",
       "      <td>False</td>\n",
       "      <td>False</td>\n",
       "      <td>False</td>\n",
       "      <td>False</td>\n",
       "      <td>False</td>\n",
       "    </tr>\n",
       "    <tr>\n",
       "      <th>59396</th>\n",
       "      <td>4700.0</td>\n",
       "      <td>1212</td>\n",
       "      <td>35.249991</td>\n",
       "      <td>-9.070629</td>\n",
       "      <td>56</td>\n",
       "      <td>15.000000</td>\n",
       "      <td>False</td>\n",
       "      <td>False</td>\n",
       "      <td>False</td>\n",
       "      <td>False</td>\n",
       "      <td>...</td>\n",
       "      <td>False</td>\n",
       "      <td>False</td>\n",
       "      <td>False</td>\n",
       "      <td>False</td>\n",
       "      <td>False</td>\n",
       "      <td>False</td>\n",
       "      <td>False</td>\n",
       "      <td>False</td>\n",
       "      <td>False</td>\n",
       "      <td>False</td>\n",
       "    </tr>\n",
       "    <tr>\n",
       "      <th>59397</th>\n",
       "      <td>0.0</td>\n",
       "      <td>0</td>\n",
       "      <td>34.017087</td>\n",
       "      <td>-8.750434</td>\n",
       "      <td>0</td>\n",
       "      <td>15.295624</td>\n",
       "      <td>False</td>\n",
       "      <td>False</td>\n",
       "      <td>False</td>\n",
       "      <td>False</td>\n",
       "      <td>...</td>\n",
       "      <td>False</td>\n",
       "      <td>False</td>\n",
       "      <td>False</td>\n",
       "      <td>True</td>\n",
       "      <td>False</td>\n",
       "      <td>False</td>\n",
       "      <td>False</td>\n",
       "      <td>False</td>\n",
       "      <td>False</td>\n",
       "      <td>False</td>\n",
       "    </tr>\n",
       "    <tr>\n",
       "      <th>59398</th>\n",
       "      <td>0.0</td>\n",
       "      <td>0</td>\n",
       "      <td>35.861315</td>\n",
       "      <td>-6.378573</td>\n",
       "      <td>0</td>\n",
       "      <td>15.295624</td>\n",
       "      <td>False</td>\n",
       "      <td>False</td>\n",
       "      <td>False</td>\n",
       "      <td>False</td>\n",
       "      <td>...</td>\n",
       "      <td>False</td>\n",
       "      <td>False</td>\n",
       "      <td>False</td>\n",
       "      <td>False</td>\n",
       "      <td>False</td>\n",
       "      <td>False</td>\n",
       "      <td>False</td>\n",
       "      <td>False</td>\n",
       "      <td>False</td>\n",
       "      <td>False</td>\n",
       "    </tr>\n",
       "    <tr>\n",
       "      <th>59399</th>\n",
       "      <td>0.0</td>\n",
       "      <td>191</td>\n",
       "      <td>38.104048</td>\n",
       "      <td>-6.747464</td>\n",
       "      <td>150</td>\n",
       "      <td>9.000000</td>\n",
       "      <td>False</td>\n",
       "      <td>True</td>\n",
       "      <td>False</td>\n",
       "      <td>False</td>\n",
       "      <td>...</td>\n",
       "      <td>False</td>\n",
       "      <td>False</td>\n",
       "      <td>False</td>\n",
       "      <td>False</td>\n",
       "      <td>False</td>\n",
       "      <td>False</td>\n",
       "      <td>True</td>\n",
       "      <td>False</td>\n",
       "      <td>False</td>\n",
       "      <td>False</td>\n",
       "    </tr>\n",
       "  </tbody>\n",
       "</table>\n",
       "<p>59400 rows × 233 columns</p>\n",
       "</div>"
      ],
      "text/plain": [
       "       amount_tsh  gps_height  longitude   latitude  population        age  \\\n",
       "0          6000.0        1390  34.938093  -9.856322         109  12.000000   \n",
       "1             0.0        1399  34.698766  -2.147466         280   3.000000   \n",
       "2            25.0         686  37.460664  -3.821329         250   4.000000   \n",
       "3             0.0         263  38.486161 -11.155298          58  27.000000   \n",
       "4             0.0           0  31.130847  -1.825359           0  15.295624   \n",
       "...           ...         ...        ...        ...         ...        ...   \n",
       "59395        10.0        1210  37.169807  -3.253847         125  14.000000   \n",
       "59396      4700.0        1212  35.249991  -9.070629          56  15.000000   \n",
       "59397         0.0           0  34.017087  -8.750434           0  15.295624   \n",
       "59398         0.0           0  35.861315  -6.378573           0  15.295624   \n",
       "59399         0.0         191  38.104048  -6.747464         150   9.000000   \n",
       "\n",
       "       district_code_1  district_code_2  district_code_30  district_code_33  \\\n",
       "0                False            False             False             False   \n",
       "1                False             True             False             False   \n",
       "2                False            False             False             False   \n",
       "3                False            False             False             False   \n",
       "4                 True            False             False             False   \n",
       "...                ...              ...               ...               ...   \n",
       "59395            False            False             False             False   \n",
       "59396            False            False             False             False   \n",
       "59397            False            False             False             False   \n",
       "59398            False            False             False             False   \n",
       "59399            False             True             False             False   \n",
       "\n",
       "       ...  scheme_name_wanging'ombe water supply s  geohash_kxr  geohash_kxx  \\\n",
       "0      ...                                    False        False        False   \n",
       "1      ...                                    False        False        False   \n",
       "2      ...                                    False        False        False   \n",
       "3      ...                                    False        False        False   \n",
       "4      ...                                    False        False        False   \n",
       "...    ...                                      ...          ...          ...   \n",
       "59395  ...                                    False        False        False   \n",
       "59396  ...                                    False        False        False   \n",
       "59397  ...                                    False        False        False   \n",
       "59398  ...                                    False        False        False   \n",
       "59399  ...                                    False        False        False   \n",
       "\n",
       "       geohash_ky2  geohash_ky5  geohash_ky7  geohash_kyg  geohash_kz0  \\\n",
       "0            False        False        False        False        False   \n",
       "1            False        False        False        False        False   \n",
       "2            False        False        False        False        False   \n",
       "3            False         True        False        False        False   \n",
       "4            False        False        False        False        False   \n",
       "...            ...          ...          ...          ...          ...   \n",
       "59395        False        False        False        False        False   \n",
       "59396        False        False        False        False        False   \n",
       "59397         True        False        False        False        False   \n",
       "59398        False        False        False        False        False   \n",
       "59399        False        False        False         True        False   \n",
       "\n",
       "       geohash_kz5  geohash_kz8  \n",
       "0            False        False  \n",
       "1            False         True  \n",
       "2            False        False  \n",
       "3            False        False  \n",
       "4            False        False  \n",
       "...            ...          ...  \n",
       "59395        False        False  \n",
       "59396        False        False  \n",
       "59397        False        False  \n",
       "59398        False        False  \n",
       "59399        False        False  \n",
       "\n",
       "[59400 rows x 233 columns]"
      ]
     },
     "execution_count": 33,
     "metadata": {},
     "output_type": "execute_result"
    }
   ],
   "source": [
    "X_tr"
   ]
  },
  {
   "cell_type": "code",
   "execution_count": 34,
   "metadata": {},
   "outputs": [],
   "source": [
    "y_TR = y_train"
   ]
  },
  {
   "cell_type": "markdown",
   "metadata": {},
   "source": [
    "---"
   ]
  },
  {
   "cell_type": "code",
   "execution_count": 35,
   "metadata": {},
   "outputs": [],
   "source": [
    "X = X_train[imp_feat]\n",
    "y = pd.DataFrame({'target':y_train})\n",
    "# y = np.array(y).ravel() "
   ]
  },
  {
   "cell_type": "markdown",
   "metadata": {},
   "source": [
    "# 1 Level: `CatBoostClassifier` 😼"
   ]
  },
  {
   "cell_type": "markdown",
   "metadata": {},
   "source": [
    "<div class=\"alert alert-info\">\n",
    "\n",
    "Для градиентного бустинга **Catboost** переберём самые важные гиперпараметры и выберем наилучшую комбинацию в рамках симметричной политики роста деревьев: `grow_policy='SymmetricTree'`"
   ]
  },
  {
   "cell_type": "markdown",
   "metadata": {},
   "source": [
    "Здесь создадим датафреймы, в к-ые будем загружать информацию о параметрах моделей и их качестве классификации."
   ]
  },
  {
   "cell_type": "code",
   "execution_count": 138,
   "metadata": {},
   "outputs": [],
   "source": [
    "BIG = pd.DataFrame(columns = [\"iterations\",\n",
    "\"depth\", \"learning_rate\", \"bootstrap_type\", \"rsm\", \"subsample\", \"l2_leaf_reg\",\n",
    "\"cnt_tree0\", \"cnt_tree1\", \"cnt_tree2\",\n",
    "\"split0_best_iter_learn\", \"split1_best_iter_learn\", \"split2_best_iter_learn\", \"mean_best_iter_learn\",\n",
    "\"split0_best_score_val\", \"split1_best_score_val\", \"split2_best_score_val\", \"mean_best_score_val\",\n",
    "\"split0_last_score_val\", \"split1_last_score_val\", \"split2_last_score_val\", \"mean_last_score_val\"])"
   ]
  },
  {
   "cell_type": "code",
   "execution_count": 139,
   "metadata": {},
   "outputs": [],
   "source": [
    "BIG.loc[len(BIG.index)] = [0]*len(BIG.columns)\n",
    "BIG.to_csv('example.csv', sep=';')\n",
    "# BIG = pd.read_csv('BIG_SUB_L2.csv', sep=';', index_col=0)\n",
    "# BIG.head()"
   ]
  },
  {
   "cell_type": "markdown",
   "metadata": {},
   "source": [
    "# <center> 🦾 `CustomSearchCV` ~ Поиск гиперпараметров на кроссвалидации </center>\n",
    "\n",
    "<div class=\"alert alert-info\">\n",
    "    \n",
    "Написанная функция `CustomSearchCV` осуществляет перебор комбинаций гиперпараметров у классификатора `CatboostClassifier` и записывает в таблицу качество на кроссвалидации. Кроссвалидацию используем `StratifiedKFold` на 3 фолда со стратификацией классов. `CustomSearchCV` принимает на вход `mode`: тип поиска – сеткой (*grid*) или рандомизированным способом (*random*); `param_distribution`: словарь, в к-ом ключи – это гиперпараметры, а значения – это распределение параметра/список возможных значений параметра; `filename`: название файла, в к-ый записывать результат. \n",
    "    \n",
    "В таблице будет содержаться информация о значениях гиперпараметров; итоговое количество деревьев **cnt_tree0/cnt_tree1/cnt_tree2** в бустинге, к-ый был настроен на конкретный валидационный фолд; качество ***Accuracy*** на лучшей *(с точки зрения валидацинного фолда)* итерации на обучающих фолдах **split0_best_iter_learn/split1_best_iter_learn/split2_best_iter_learn**, на лучшей итерации на валидационных фолдах **split0_best_score_val/split1_best_score_val/split2_best_score_val** и соответствующее усреднённое **mean_best_score_val**, на последней итерации на валидационных фолдах\n",
    "**split0_last_score_val/split1_last_score_val/split2_last_score_val** и усреднённое **mean_last_score_val**;"
   ]
  },
  {
   "cell_type": "markdown",
   "metadata": {},
   "source": [
    "<div class=\"alert alert-info\">\n",
    "\n",
    "У классификатора `CatboostClassifier` в методе `fit` есть параметр: `use_best_model=True`. Если мы оставим `True`, то модель с заданными параметрами во время кроссвалидации пройдя все `iterations` выберет наилучшую итерацию, при которой `eval_metric` на тестовом фолде был наибольший. Таким образом, для одного набора параметров построится совокупность моделей с разным количеством деревьев для каждого фолда. То же самое касается, если использовать раннюю остановку `early_stopping`. Если мы хотим повторить алгоритм построения, реализованный в `RandomizedSearchCV`, то стоит убрать `early_stopping` и в `fit` использовать `use_best_model=False`, чтобы кол-во деревьев было одно и то же на всех фолдах."
   ]
  },
  {
   "cell_type": "markdown",
   "metadata": {},
   "source": [
    "<div class=\"alert alert-info\">\n",
    "\n",
    "Обучим `catboost`, пользуясь ранней остановкой (*поэтому пользуемся не `RandomizedSearchCV`*): в данном варианте после подбора параметров **на выходе будем иметь совокупность бустингов, обученных с разным кол-вом деревьев на разных фолдах** (*другие параметры будут одинаковые*). Инференс может осуществляться как усреднение ответов всех `n_splits` моделей, но в нашем случае качество выше при обучении одного бустинга на всех обучающих данных."
   ]
  },
  {
   "cell_type": "code",
   "execution_count": 61,
   "metadata": {},
   "outputs": [],
   "source": [
    "def generate_params(param_distribution):\n",
    "    d = {}\n",
    "    for key in param_distribution.keys():\n",
    "        if type(param_distribution[key]) is not list:\n",
    "            d[key] = param_distribution[key].rvs(1)[0]\n",
    "        else: d[key] = np.random.choice(param_distribution[key], 1)[0]\n",
    "    return d"
   ]
  },
  {
   "cell_type": "code",
   "execution_count": 62,
   "metadata": {},
   "outputs": [],
   "source": [
    "def catboost_train_cv(X, y, early_stopping_rounds, params, file_name):\n",
    "    global BIG\n",
    "#   global clfs\n",
    "\n",
    "    BIG = pd.read_csv(file_name, sep=';', index_col=0)\n",
    "\n",
    "    n_splits = 3           # Число фолдов\n",
    "    scores_best_learn = [] # Тут будем хранить наилучшие скоры на обученных фолдах\n",
    "    scores_best_val = []   # Тут будем хранить наилучшие скоры валидационных фолдов\n",
    "    scores_last_val = []   # Тут будем хранить скоры валидационных фолдов на последней итерации\n",
    "    cnt_tree = []          # Тут будем хранить итоговое количество деревьев в моделях \n",
    "#   clfs = []              # Тут можно сохранять модели\n",
    "    kf = StratifiedKFold(n_splits=n_splits, shuffle=True, random_state=777)\n",
    "\n",
    "    for train_index, test_index in kf.split(X, y):\n",
    "        X_train_cv, X_test_cv = X.iloc[train_index], X.iloc[test_index]\n",
    "        y_train_cv, y_test_cv = y.iloc[train_index], y.iloc[test_index]\n",
    "\n",
    "        # Специальный класс для ускорения обучения \n",
    "        train_dataset = Pool(data=X_train_cv, label=y_train_cv) \n",
    "        eval_dataset = Pool(data=X_test_cv, label=y_test_cv)    \n",
    "\n",
    "        clf = CatBoostClassifier(**params, random_seed=777,\n",
    "                                 loss_function='MultiClass', eval_metric='Accuracy', early_stopping_rounds=early_stopping_rounds)\n",
    "        clf.fit(\n",
    "            train_dataset,\n",
    "            eval_set=eval_dataset,\n",
    "            verbose=500,\n",
    "            use_best_model=True, \n",
    "            plot=True)\n",
    "        scores_best_val.append(clf.best_score_['validation'][\"Accuracy\"]) \n",
    "        scores_last_val.append(clf.evals_result_['validation']['Accuracy'][-1:][0])\n",
    "        scores_best_learn.append(clf.evals_result_['learn']['Accuracy'][clf.best_iteration_])\n",
    "        cnt_tree.append(clf.tree_count_)\n",
    "#       clfs.append(clf)\n",
    "    mean_best_score_learn = np.mean(scores_best_learn)\n",
    "    mean_best_score_val = np.mean(scores_best_val)\n",
    "    mean_last_score_val = np.mean(scores_last_val)\n",
    "\n",
    "    BIG.loc[len(BIG.index)] = list(params.values()) + cnt_tree + scores_best_learn + [mean_best_score_learn] + \\\n",
    "                                  scores_best_val + [mean_best_score_val] + scores_last_val + [mean_last_score_val]\n",
    "    BIG.to_csv(file_name, sep=';')"
   ]
  },
  {
   "cell_type": "code",
   "execution_count": 63,
   "metadata": {
    "scrolled": true
   },
   "outputs": [],
   "source": [
    "def CustomSearchCV(X, y, early_stopping_rounds, mode, param_distribution, filename, n_models=None):\n",
    "    # mode: 'grid' / 'random'\n",
    "    \n",
    "    if mode == 'grid': \n",
    "        all_values = list(param_distribution.values())\n",
    "        n_models = prod([len(all_values[i]) for i in range(len(all_values))])\n",
    "\n",
    "        for i, parameters in enumerate(product(*all_values)):\n",
    "            params = dict(zip(param_distribution.keys(), parameters))\n",
    "            print(\"Обучается {} из {} моделей\".format(i+1, n_models))\n",
    "            print(params)\n",
    "            catboost_train_cv(X, y, early_stopping_rounds, params, filename)\n",
    "\n",
    "    elif mode == 'random':\n",
    "        #n_models = int(input())\n",
    "        for i in range(n_models):\n",
    "            params = generate_params(param_distribution)\n",
    "            print(\"Обучается {} из {} моделей\".format(i+1, n_models))\n",
    "            print(params)\n",
    "            catboost_train_cv(X, y, early_stopping_rounds, params, filename)   "
   ]
  },
  {
   "cell_type": "markdown",
   "metadata": {},
   "source": [
    "В этой секции задаётся распределение гиперпараметров и вызывается ф-ция их перебора:"
   ]
  },
  {
   "cell_type": "code",
   "execution_count": 64,
   "metadata": {
    "scrolled": false
   },
   "outputs": [
    {
     "name": "stdout",
     "output_type": "stream",
     "text": [
      "Обучается 1 из 1 моделей\n",
      "{'iterations': 5000, 'depth': 10, 'learning_rate': 0.055, 'bootstrap_type': 'MVS', 'rsm': 0.45, 'subsample': 0.95, 'l2_leaf_reg': 1}\n"
     ]
    },
    {
     "data": {
      "application/vnd.jupyter.widget-view+json": {
       "model_id": "c2441ab0d80c41c498909106e2f75e68",
       "version_major": 2,
       "version_minor": 0
      },
      "text/plain": [
       "MetricVisualizer(layout=Layout(align_self='stretch', height='500px'))"
      ]
     },
     "metadata": {},
     "output_type": "display_data"
    },
    {
     "name": "stdout",
     "output_type": "stream",
     "text": [
      "0:\tlearn: 0.7068687\ttest: 0.7018687\tbest: 0.7018687 (0)\ttotal: 47.3ms\tremaining: 3m 56s\n",
      "500:\tlearn: 0.8291919\ttest: 0.7928283\tbest: 0.7931313 (498)\ttotal: 21.9s\tremaining: 3m 16s\n",
      "1000:\tlearn: 0.8619697\ttest: 0.8026263\tbest: 0.8029293 (995)\ttotal: 45.1s\tremaining: 3m\n",
      "1500:\tlearn: 0.8841162\ttest: 0.8058081\tbest: 0.8061616 (1319)\ttotal: 1m 8s\tremaining: 2m 38s\n",
      "Stopped by overfitting detector  (200 iterations wait)\n",
      "\n",
      "bestTest = 0.8061616162\n",
      "bestIteration = 1319\n",
      "\n",
      "Shrink model to first 1320 iterations.\n"
     ]
    },
    {
     "data": {
      "application/vnd.jupyter.widget-view+json": {
       "model_id": "caf4b905eabf478bb7d03216b41e0432",
       "version_major": 2,
       "version_minor": 0
      },
      "text/plain": [
       "MetricVisualizer(layout=Layout(align_self='stretch', height='500px'))"
      ]
     },
     "metadata": {},
     "output_type": "display_data"
    },
    {
     "name": "stdout",
     "output_type": "stream",
     "text": [
      "0:\tlearn: 0.7171717\ttest: 0.7160606\tbest: 0.7160606 (0)\ttotal: 62.2ms\tremaining: 5m 11s\n",
      "500:\tlearn: 0.8267929\ttest: 0.7980808\tbest: 0.7980808 (500)\ttotal: 22.8s\tremaining: 3m 25s\n",
      "1000:\tlearn: 0.8618434\ttest: 0.8064646\tbest: 0.8069192 (993)\ttotal: 46.1s\tremaining: 3m 4s\n",
      "1500:\tlearn: 0.8820707\ttest: 0.8100000\tbest: 0.8106061 (1480)\ttotal: 1m 10s\tremaining: 2m 43s\n",
      "2000:\tlearn: 0.8975000\ttest: 0.8112121\tbest: 0.8116162 (1967)\ttotal: 1m 38s\tremaining: 2m 28s\n",
      "Stopped by overfitting detector  (200 iterations wait)\n",
      "\n",
      "bestTest = 0.8117171717\n",
      "bestIteration = 2079\n",
      "\n",
      "Shrink model to first 2080 iterations.\n"
     ]
    },
    {
     "data": {
      "application/vnd.jupyter.widget-view+json": {
       "model_id": "c4d446d67efe454eb7ea395d046fb597",
       "version_major": 2,
       "version_minor": 0
      },
      "text/plain": [
       "MetricVisualizer(layout=Layout(align_self='stretch', height='500px'))"
      ]
     },
     "metadata": {},
     "output_type": "display_data"
    },
    {
     "name": "stdout",
     "output_type": "stream",
     "text": [
      "0:\tlearn: 0.7185606\ttest: 0.7183333\tbest: 0.7183333 (0)\ttotal: 64.7ms\tremaining: 5m 23s\n",
      "500:\tlearn: 0.8252778\ttest: 0.8001515\tbest: 0.8002020 (469)\ttotal: 24.8s\tremaining: 3m 42s\n",
      "1000:\tlearn: 0.8586364\ttest: 0.8077273\tbest: 0.8077273 (999)\ttotal: 52.8s\tremaining: 3m 30s\n",
      "1500:\tlearn: 0.8798990\ttest: 0.8107576\tbest: 0.8111111 (1445)\ttotal: 1m 18s\tremaining: 3m 3s\n",
      "2000:\tlearn: 0.8957576\ttest: 0.8125253\tbest: 0.8131818 (1961)\ttotal: 1m 45s\tremaining: 2m 37s\n",
      "Stopped by overfitting detector  (200 iterations wait)\n",
      "\n",
      "bestTest = 0.8131818182\n",
      "bestIteration = 1961\n",
      "\n",
      "Shrink model to first 1962 iterations.\n"
     ]
    }
   ],
   "source": [
    "mode='grid'\n",
    "param_distribution = {\n",
    "    \"iterations\":       [5000],           \n",
    "    \"depth\":            [10],             # [8, 9, 10, 11]\n",
    "    \"learning_rate\":    [0.055],          # [0.01, 0.02, 0.027, 0.035, 0.045, 0.055, 0.07]\n",
    "    \"bootstrap_type\":   ['MVS'],          # ['Bernoulli', 'MVS', 'Bayesian']\n",
    "    \"rsm\":              [0.45],           # [0.3, 0.4, 0.45, 0.5, 0.55, 0.65, 0.7, 0.77, 0.82, 0.88, 1]\n",
    "    \"subsample\":        [0.95],           # [0.25, 0.4, 0.55, 0.75, 0.82, 0.88, 0.95, 1]\n",
    "    \"l2_leaf_reg\":      [1]               # [1, 3, 5, 7]\n",
    "} \n",
    "filename = 'example.csv' #должен быть заранее создан\n",
    "# n_models=None          #при моде random\n",
    "early_stopping_rounds=200\n",
    "CustomSearchCV(X, y, early_stopping_rounds, mode, param_distribution, filename)"
   ]
  },
  {
   "cell_type": "code",
   "execution_count": 133,
   "metadata": {
    "scrolled": false
   },
   "outputs": [],
   "source": [
    "# pd.set_option('display.max_columns', None) \n",
    "# BIG.sort_values(by='mean_best_score_val', ascending=False)[:10]"
   ]
  },
  {
   "cell_type": "markdown",
   "metadata": {},
   "source": [
    "## Выбор гиперпараметров\n",
    "\n",
    "<div class=\"alert alert-info\">\n",
    "    \n",
    "В целом, задача сводится к тому, чтобы выбирать модель **наивысшего** среднего качества классификации **на кроссвалидации** при **наименьшем** среднем качестве **на обучении**. Поэтому полезно строить **графики** зависимости качества моделей от значений гиперпараметров, как на валидации, так и на обучении."
   ]
  },
  {
   "cell_type": "markdown",
   "metadata": {},
   "source": [
    "<div class=\"alert alert-info\">\n",
    "    \n",
    "В общем случае, при выборе между моделями, следует учитывать следующее: если планируется использовать модель на реальных данных, то важнее обеспечить **высокую обобщающую способность и минимизировать риск переобучения**. В таком случае, лучше выбрать модель с меньшим переобучением. Если **цель проекта побить максимальный скор в соревновании**, то можно попробовать использовать более переобученные модели (например, использовать раннюю остановку с бОльшим значением). "
   ]
  },
  {
   "cell_type": "markdown",
   "metadata": {},
   "source": [
    "<div class=\"alert alert-info\">\n",
    "\n",
    "Сначала, в любом случае, **для ускорения перебора параметров и для предотвращения сильного переобучения** установим раннюю остановку `early_stopping=200` и `use_best_model=True`."
   ]
  },
  {
   "cell_type": "markdown",
   "metadata": {},
   "source": [
    "**Grid_Search** перебрал `depth : [8, 9, 10, 11]`, `learning_rate : [0.01, 0.02, 0.027, 0.035, 0.045, 0.055, 0.07]`:"
   ]
  },
  {
   "cell_type": "code",
   "execution_count": 66,
   "metadata": {},
   "outputs": [
    {
     "data": {
      "image/png": "[encoded data removed]",
      "text/plain": [
       "<Figure size 1008x324 with 2 Axes>"
      ]
     },
     "metadata": {
      "needs_background": "light"
     },
     "output_type": "display_data"
    }
   ],
   "source": [
    "BIG = pd.read_csv('param_dicts/BIG_DEPTH_LR.csv', sep=';', index_col=0)\n",
    "\n",
    "fig, ax = plt.subplots(1, 2, figsize=(14, 4.5))\n",
    "palette = sns.color_palette(\"tab10\", n_colors=4) \n",
    "\n",
    "g1=sns.lineplot(data=BIG, x=\"learning_rate\", y=\"mean_best_score_val\", hue=\"depth\", ax=ax[0], palette=palette) \n",
    "g2=sns.lineplot(data=BIG, x=\"learning_rate\", y=\"mean_best_iter_learn\", hue=\"depth\", ax=ax[1], palette=palette) \n",
    "ax[0].set_title('Validation Score')\n",
    "ax[1].set_title('Learn Score');\n",
    "plt.tight_layout()"
   ]
  },
  {
   "cell_type": "markdown",
   "metadata": {},
   "source": [
    "Лучшее среднее качество ***Accuracy*** на кроссвалидации ~ **0.80862** с гиперпараметрами `depth=10`, `learning_rate=0.055`.\n",
    "\n",
    "Зафиксируем лучшие `depth` и `learning_rate`. Переберём также сеткой `bootstrap_type : ['Bernoulli', 'MVS', 'Bayesian']`, `rsm : [0.3, 0.4, 0.45, 0.5, 0.55, 0.65, 0.7, 0.77, 0.82, 0.88, 1]`:"
   ]
  },
  {
   "cell_type": "code",
   "execution_count": 68,
   "metadata": {},
   "outputs": [
    {
     "data": {
      "image/png": "[encoded data removed]",
      "text/plain": [
       "<Figure size 1008x324 with 2 Axes>"
      ]
     },
     "metadata": {
      "needs_background": "light"
     },
     "output_type": "display_data"
    }
   ],
   "source": [
    "BIG = pd.read_csv('param_dicts/BIG_rsm_bootstrap.csv', sep=';', index_col=0)\n",
    "\n",
    "fig, ax = plt.subplots(1, 2, figsize=(14, 4.5))\n",
    "palette = sns.color_palette(\"tab10\", n_colors=3) \n",
    "\n",
    "g1=sns.lineplot(data=BIG, x=\"rsm\", y=\"mean_best_score_val\", hue=\"bootstrap_type\", ax=ax[0], palette=palette) \n",
    "g2=sns.lineplot(data=BIG, x=\"rsm\", y=\"mean_best_iter_learn\", hue=\"bootstrap_type\", ax=ax[1], palette=palette) \n",
    "ax[0].set_title('Validation Score')\n",
    "ax[1].set_title('Learn Score');\n",
    "plt.tight_layout()"
   ]
  },
  {
   "cell_type": "markdown",
   "metadata": {},
   "source": [
    "Лучшее среднее качество ***Accuracy*** на кроссвалидации ~ **0.80965** с гиперпараметрами `bootstrap_type=MVS`, `rsm=0.45`.\n",
    "\n",
    "Теперь к набору параметров `depth=10`, `learning_rate=0.055`, `bootstrap_type='MVS'`, `rsm=0.45` переберём также сеткой `subsample : [0.25, 0.4, 0.55, 0.75, 0.82, 0.88, 0.95, 1]` и `l2_leaf_reg : [1, 3, 5, 7]`:"
   ]
  },
  {
   "cell_type": "code",
   "execution_count": 69,
   "metadata": {},
   "outputs": [
    {
     "data": {
      "image/png": "[encoded data removed]",
      "text/plain": [
       "<Figure size 1008x324 with 2 Axes>"
      ]
     },
     "metadata": {
      "needs_background": "light"
     },
     "output_type": "display_data"
    }
   ],
   "source": [
    "BIG = pd.read_csv('param_dicts/BIG_SUB_L2.csv', sep=';', index_col=0)\n",
    "\n",
    "fig, ax = plt.subplots(1, 2, figsize=(14, 4.5))\n",
    "palette = sns.color_palette(\"tab10\", n_colors=4) \n",
    "\n",
    "g1=sns.lineplot(data=BIG, x=\"subsample\", y=\"mean_best_score_val\", hue=\"l2_leaf_reg\", ax=ax[0], palette=palette) \n",
    "g2=sns.lineplot(data=BIG, x=\"subsample\", y=\"mean_best_iter_learn\", hue=\"l2_leaf_reg\", ax=ax[1], palette=palette) \n",
    "ax[0].set_title('Validation Score')\n",
    "ax[1].set_title('Learn Score');\n",
    "plt.tight_layout()"
   ]
  },
  {
   "cell_type": "markdown",
   "metadata": {},
   "source": [
    "Лучшее среднее качество ***Accuracy*** на кроссвалидации ~ **0.8104** с гиперпараметрами `subsample=0.95` и `l2_leaf_reg=1`.\n",
    "\n",
    "Итого: `Catboost` мы обучаем на параметрах: "
   ]
  },
  {
   "cell_type": "code",
   "execution_count": 70,
   "metadata": {},
   "outputs": [
    {
     "name": "stdout",
     "output_type": "stream",
     "text": [
      "0:\tlearn: 0.7215152\ttotal: 54.2ms\tremaining: 1m 53s\n",
      "500:\tlearn: 0.8218350\ttotal: 23.9s\tremaining: 1m 16s\n",
      "1000:\tlearn: 0.8515320\ttotal: 48.7s\tremaining: 53.5s\n",
      "1500:\tlearn: 0.8706061\ttotal: 1m 16s\tremaining: 30.4s\n",
      "2000:\tlearn: 0.8841077\ttotal: 1m 42s\tremaining: 5.08s\n",
      "2099:\tlearn: 0.8869865\ttotal: 1m 47s\tremaining: 0us\n"
     ]
    }
   ],
   "source": [
    "train_dataset = Pool(data=X, label=y) \n",
    "\n",
    "params = {\n",
    "    \"iterations\":       2100,    \n",
    "    \"depth\":            10,      \n",
    "    \"learning_rate\":    0.055,   \n",
    "    \"bootstrap_type\":   'MVS',   \n",
    "    \"rsm\":              0.45,    \n",
    "    \"subsample\":        0.95,    \n",
    "    \"l2_leaf_reg\":      1        \n",
    "} \n",
    "\n",
    "catboost_model = CatBoostClassifier(**params, random_seed=777, loss_function='MultiClass', eval_metric='Accuracy') \n",
    "\n",
    "catboost_model.fit(train_dataset, verbose=500)"
   ]
  },
  {
   "cell_type": "code",
   "execution_count": 71,
   "metadata": {},
   "outputs": [
    {
     "data": {
      "text/plain": [
       "0.886986531986532"
      ]
     },
     "execution_count": 71,
     "metadata": {},
     "output_type": "execute_result"
    }
   ],
   "source": [
    "catboost_model.evals_result_['learn']['Accuracy'][-1:][0]"
   ]
  },
  {
   "cell_type": "markdown",
   "metadata": {},
   "source": [
    "Сохраним модель:"
   ]
  },
  {
   "cell_type": "code",
   "execution_count": 72,
   "metadata": {},
   "outputs": [],
   "source": [
    "catboost_model.save_model('models/catboost_model_1lvl.cbm')"
   ]
  },
  {
   "cell_type": "code",
   "execution_count": 74,
   "metadata": {},
   "outputs": [
    {
     "data": {
      "text/plain": [
       "<catboost.core.CatBoostClassifier at 0x7ff54d75f5e0>"
      ]
     },
     "execution_count": 74,
     "metadata": {},
     "output_type": "execute_result"
    }
   ],
   "source": [
    "# catboost_model = CatBoostClassifier()\n",
    "# catboost_model.load_model('models/catboost_model_1lvl.cbm')"
   ]
  },
  {
   "cell_type": "markdown",
   "metadata": {},
   "source": [
    "# Инференс модели"
   ]
  },
  {
   "cell_type": "code",
   "execution_count": 73,
   "metadata": {},
   "outputs": [],
   "source": [
    "def Inference(model, name_file):\n",
    "    X_test = test[test.columns[1:]][imp_feat]\n",
    "    y_hat = model.predict(X_test)\n",
    "    y_pred = le_tar.inverse_transform(y_hat.ravel())\n",
    "    data = pd.DataFrame(zip(test['id'], y_pred), \n",
    "                        columns = ['id', 'status_group']).to_csv(name_file,\n",
    "                                                                 sep=',',\n",
    "                                                                 index=False)"
   ]
  },
  {
   "cell_type": "markdown",
   "metadata": {},
   "source": [
    "**Submission** отправленный на проверку выдал качество ***Accuracy = 0.8173***"
   ]
  },
  {
   "cell_type": "code",
   "execution_count": 79,
   "metadata": {},
   "outputs": [],
   "source": [
    "Inference(catboost_model, 'subs/final_prediction_30082024_1.csv') # 0.8173"
   ]
  },
  {
   "cell_type": "markdown",
   "metadata": {},
   "source": [
    "# <center> 🎸 `RandomizedSearchCV` </center>\n",
    "\n",
    "<div class=\"alert alert-info\">\n",
    "\n",
    "**Небольшое пояснение:** Можно перебирать гиперпараметры с помощью `RandomizedSearchCV`: например используя `CatBoostClassifier`. Минимизируется по эпохам всегда `loss_function` (например \"MultiClass\"), но нам следует указать метрику качества `eval_metric` (\"Accuracy\") для того, чтобы наблюдать в выведенных сообщениях не функцию потерь, а `eval-качество` на каждой эпохе на обучении (на тесте в данном формате не выводится). В сам `RandomizedSearchCV` следует также обязательно передать параметр `scoring` (\"Accuracy\"), чтобы именно эта метрика замерялась на всех тестовых фолдах, и потом усреднялась по всем этим фолдам. После обучения можно обратиться к результатам поиска: `random_search.cv_results_`, это словарь результатов. `split*_test_score` – это замеряемое качество на фолде **`*`**. `mean_test_score` – это итоговый результат, усреднение качества `scoring` (\"Accuracy\") по всем фолдам. Это значение возвращается через атрибут:  `random_search.best_score_`, а лучшие параметры можно получить: `random_search.best_params_`.\n",
    "    \n",
    "Лучшую модель можно получить так: `random_search.best_estimator_`, и она предварительно уже обучена на всех фолдах. И она и осуществляет инференс.\n"
   ]
  },
  {
   "cell_type": "markdown",
   "metadata": {},
   "source": [
    "<div class=\"alert alert-info\">\n",
    "    \n",
    "Стоит сказать, что качество на тестовых фолдах измеряется **последней итерацией**, а не лучшей итерацией. В `random_search.cv_results_` значение `split0_test_score` эквивалентно `split0_last_score_val` в нашем `CustomSearchCV`. И `mean_test_score` ~ `mean_last_score_val`."
   ]
  },
  {
   "cell_type": "markdown",
   "metadata": {},
   "source": [
    "<div class=\"alert alert-info\">\n",
    "    \n",
    "Из минусов: \n",
    "* нет возможности воспользоваться ранней остановкой `early_stopping` в `CatBoostClassifier`, кол-во деревьев на всех фолдах фиксированное, **так как параметры модели, которую мы проверяем на разных фолдах, должны быть одинаковыми**.   \n",
    "* в выведенных сообщениях не будет выводиться информация о качестве тестов каждой эпохи, только качество обучения. Поэтому иногда лучше кастомить собственный класс перебора параметров.  "
   ]
  },
  {
   "cell_type": "code",
   "execution_count": null,
   "metadata": {},
   "outputs": [],
   "source": [
    "param_distribution = {\n",
    "    \"iterations\": [2500], #2100\n",
    "    'depth': [10],\n",
    "    'learning_rate': [0.055],\n",
    "    'bootstrap_type': ['MVS'],\n",
    "    'rsm': [0.45],\n",
    "    \"subsample\":[0.95],\n",
    "    \"l2_leaf_reg\":[1]\n",
    "}"
   ]
  },
  {
   "cell_type": "code",
   "execution_count": null,
   "metadata": {},
   "outputs": [],
   "source": [
    "from sklearn.model_selection import RandomizedSearchCV\n",
    "\n",
    "cat_model = CatBoostClassifier(random_seed=777, loss_function=\"MultiClass\", eval_metric='Accuracy', task_type='CPU')\n",
    "kf = StratifiedKFold(n_splits=3, shuffle=True, random_state=777)\n",
    "\n",
    "random_search = RandomizedSearchCV(cat_model, param_distributions=param_distribution,\n",
    "                                   scoring='accuracy', n_iter=1, cv=kf)\n",
    "random_search.fit(X, y,\n",
    "                verbose=250,\n",
    "                plot=False)"
   ]
  },
  {
   "cell_type": "code",
   "execution_count": null,
   "metadata": {},
   "outputs": [],
   "source": [
    "random_search.best_params_, random_search.best_score_  "
   ]
  },
  {
   "cell_type": "code",
   "execution_count": null,
   "metadata": {},
   "outputs": [],
   "source": [
    "pd.DataFrame(random_search.cv_results_).sort_values(by='rank_test_score')"
   ]
  },
  {
   "cell_type": "code",
   "execution_count": null,
   "metadata": {},
   "outputs": [],
   "source": [
    "random_search.best_estimator_ # .best_score_"
   ]
  },
  {
   "cell_type": "markdown",
   "metadata": {},
   "source": [
    "# 1 Level: `XGBClassifier` 🚀"
   ]
  },
  {
   "cell_type": "markdown",
   "metadata": {},
   "source": [
    "С помощью `RandomizedSearchCV` выполним перебор параметров на кроссвалидации, чтобы \"выловить\" наилучшие параметры у `XGBClassifier`:"
   ]
  },
  {
   "cell_type": "code",
   "execution_count": 126,
   "metadata": {},
   "outputs": [],
   "source": [
    "param_test1 = {\n",
    " 'subsample': [0.7],\n",
    " 'n_estimators': [110, 150, 200, 250],            # [50, 100, 150, 200, 350, 450, 550, 825, 1000],\n",
    " 'max_depth': [10],                               # [4, 6, 8, 9, 10, 11, 13],\n",
    " 'colsample_bytree': [0.7],\n",
    " 'min_child_weight' : [1],                        # range(1, 6, 1),\n",
    " 'eta': [0.05, 0.1, 0.2, 0.25, 0.3],              # [0.05, 0.1, 0.2, 0.25, 0.3]\n",
    " 'gamma' : [num / 10 for num in range(1, 15, 1)],\n",
    "}"
   ]
  },
  {
   "cell_type": "code",
   "execution_count": 127,
   "metadata": {
    "scrolled": false
   },
   "outputs": [
    {
     "name": "stdout",
     "output_type": "stream",
     "text": [
      "Fitting 3 folds for each of 40 candidates, totalling 120 fits\n"
     ]
    }
   ],
   "source": [
    "kf = StratifiedKFold(n_splits=3, shuffle=True, random_state=111)\n",
    "\n",
    "hyper_search = RandomizedSearchCV(XGBClassifier(), param_test1, n_iter=40, scoring='accuracy', \n",
    "                                  cv=kf, n_jobs=-1, refit=True, random_state=123,\n",
    "                                  verbose=2)\n",
    "hyper_search.fit(X, y)"
   ]
  },
  {
   "cell_type": "code",
   "execution_count": 128,
   "metadata": {},
   "outputs": [
    {
     "data": {
      "text/plain": [
       "{'subsample': 0.7,\n",
       " 'n_estimators': 150,\n",
       " 'min_child_weight': 1,\n",
       " 'max_depth': 10,\n",
       " 'gamma': 0.4,\n",
       " 'eta': 0.2,\n",
       " 'colsample_bytree': 0.7}"
      ]
     },
     "execution_count": 128,
     "metadata": {},
     "output_type": "execute_result"
    }
   ],
   "source": [
    "hyper_search.best_params_"
   ]
  },
  {
   "cell_type": "code",
   "execution_count": 129,
   "metadata": {},
   "outputs": [
    {
     "data": {
      "text/plain": [
       "0.8086531986531987"
      ]
     },
     "execution_count": 129,
     "metadata": {},
     "output_type": "execute_result"
    }
   ],
   "source": [
    "hyper_search.best_score_"
   ]
  },
  {
   "cell_type": "code",
   "execution_count": 131,
   "metadata": {},
   "outputs": [],
   "source": [
    "# best_model_xgb = hyper_search.best_estimator_"
   ]
  },
  {
   "cell_type": "code",
   "execution_count": 132,
   "metadata": {},
   "outputs": [],
   "source": [
    "def acc(y_true, y_pred):\n",
    "    y_pred_final = y_pred.argmax(axis=1)\n",
    "    return accuracy_score(y_true, y_pred_final)"
   ]
  },
  {
   "cell_type": "code",
   "execution_count": 133,
   "metadata": {},
   "outputs": [
    {
     "name": "stdout",
     "output_type": "stream",
     "text": [
      "[0]\tvalidation_0-mlogloss:0.97297\tvalidation_0-acc:0.76811\n",
      "[50]\tvalidation_0-mlogloss:0.41493\tvalidation_0-acc:0.83744\n",
      "[100]\tvalidation_0-mlogloss:0.34748\tvalidation_0-acc:0.86608\n",
      "[149]\tvalidation_0-mlogloss:0.30303\tvalidation_0-acc:0.88771\n"
     ]
    },
    {
     "data": {
      "text/html": [
       "<style>#sk-container-id-3 {color: black;}#sk-container-id-3 pre{padding: 0;}#sk-container-id-3 div.sk-toggleable {background-color: white;}#sk-container-id-3 label.sk-toggleable__label {cursor: pointer;display: block;width: 100%;margin-bottom: 0;padding: 0.3em;box-sizing: border-box;text-align: center;}#sk-container-id-3 label.sk-toggleable__label-arrow:before {content: \"▸\";float: left;margin-right: 0.25em;color: #696969;}#sk-container-id-3 label.sk-toggleable__label-arrow:hover:before {color: black;}#sk-container-id-3 div.sk-estimator:hover label.sk-toggleable__label-arrow:before {color: black;}#sk-container-id-3 div.sk-toggleable__content {max-height: 0;max-width: 0;overflow: hidden;text-align: left;background-color: #f0f8ff;}#sk-container-id-3 div.sk-toggleable__content pre {margin: 0.2em;color: black;border-radius: 0.25em;background-color: #f0f8ff;}#sk-container-id-3 input.sk-toggleable__control:checked~div.sk-toggleable__content {max-height: 200px;max-width: 100%;overflow: auto;}#sk-container-id-3 input.sk-toggleable__control:checked~label.sk-toggleable__label-arrow:before {content: \"▾\";}#sk-container-id-3 div.sk-estimator input.sk-toggleable__control:checked~label.sk-toggleable__label {background-color: #d4ebff;}#sk-container-id-3 div.sk-label input.sk-toggleable__control:checked~label.sk-toggleable__label {background-color: #d4ebff;}#sk-container-id-3 input.sk-hidden--visually {border: 0;clip: rect(1px 1px 1px 1px);clip: rect(1px, 1px, 1px, 1px);height: 1px;margin: -1px;overflow: hidden;padding: 0;position: absolute;width: 1px;}#sk-container-id-3 div.sk-estimator {font-family: monospace;background-color: #f0f8ff;border: 1px dotted black;border-radius: 0.25em;box-sizing: border-box;margin-bottom: 0.5em;}#sk-container-id-3 div.sk-estimator:hover {background-color: #d4ebff;}#sk-container-id-3 div.sk-parallel-item::after {content: \"\";width: 100%;border-bottom: 1px solid gray;flex-grow: 1;}#sk-container-id-3 div.sk-label:hover label.sk-toggleable__label {background-color: #d4ebff;}#sk-container-id-3 div.sk-serial::before {content: \"\";position: absolute;border-left: 1px solid gray;box-sizing: border-box;top: 0;bottom: 0;left: 50%;z-index: 0;}#sk-container-id-3 div.sk-serial {display: flex;flex-direction: column;align-items: center;background-color: white;padding-right: 0.2em;padding-left: 0.2em;position: relative;}#sk-container-id-3 div.sk-item {position: relative;z-index: 1;}#sk-container-id-3 div.sk-parallel {display: flex;align-items: stretch;justify-content: center;background-color: white;position: relative;}#sk-container-id-3 div.sk-item::before, #sk-container-id-3 div.sk-parallel-item::before {content: \"\";position: absolute;border-left: 1px solid gray;box-sizing: border-box;top: 0;bottom: 0;left: 50%;z-index: -1;}#sk-container-id-3 div.sk-parallel-item {display: flex;flex-direction: column;z-index: 1;position: relative;background-color: white;}#sk-container-id-3 div.sk-parallel-item:first-child::after {align-self: flex-end;width: 50%;}#sk-container-id-3 div.sk-parallel-item:last-child::after {align-self: flex-start;width: 50%;}#sk-container-id-3 div.sk-parallel-item:only-child::after {width: 0;}#sk-container-id-3 div.sk-dashed-wrapped {border: 1px dashed gray;margin: 0 0.4em 0.5em 0.4em;box-sizing: border-box;padding-bottom: 0.4em;background-color: white;}#sk-container-id-3 div.sk-label label {font-family: monospace;font-weight: bold;display: inline-block;line-height: 1.2em;}#sk-container-id-3 div.sk-label-container {text-align: center;}#sk-container-id-3 div.sk-container {/* jupyter's `normalize.less` sets `[hidden] { display: none; }` but bootstrap.min.css set `[hidden] { display: none !important; }` so we also need the `!important` here to be able to override the default hidden behavior on the sphinx rendered scikit-learn.org. See: https://github.com/scikit-learn/scikit-learn/issues/21755 */display: inline-block !important;position: relative;}#sk-container-id-3 div.sk-text-repr-fallback {display: none;}</style><div id=\"sk-container-id-3\" class=\"sk-top-container\"><div class=\"sk-text-repr-fallback\"><pre>XGBClassifier(base_score=None, booster=None, callbacks=None,\n",
       "              colsample_bylevel=None, colsample_bynode=None,\n",
       "              colsample_bytree=0.7, device=None, early_stopping_rounds=None,\n",
       "              enable_categorical=False, eta=0.2,\n",
       "              eval_metric=&lt;function acc at 0x7fce4371bee0&gt;, feature_types=None,\n",
       "              gamma=0.4, grow_policy=None, importance_type=None,\n",
       "              interaction_constraints=None, learning_rate=None, max_bin=None,\n",
       "              max_cat_threshold=None, max_cat_to_onehot=None,\n",
       "              max_delta_step=None, max_depth=10, max_leaves=None,\n",
       "              min_child_weight=1, missing=nan, monotone_constraints=None,\n",
       "              multi_strategy=None, n_estimators=150, n_jobs=-1,\n",
       "              num_parallel_tree=None, ...)</pre><b>In a Jupyter environment, please rerun this cell to show the HTML representation or trust the notebook. <br />On GitHub, the HTML representation is unable to render, please try loading this page with nbviewer.org.</b></div><div class=\"sk-container\" hidden><div class=\"sk-item\"><div class=\"sk-estimator sk-toggleable\"><input class=\"sk-toggleable__control sk-hidden--visually\" id=\"sk-estimator-id-3\" type=\"checkbox\" checked><label for=\"sk-estimator-id-3\" class=\"sk-toggleable__label sk-toggleable__label-arrow\">XGBClassifier</label><div class=\"sk-toggleable__content\"><pre>XGBClassifier(base_score=None, booster=None, callbacks=None,\n",
       "              colsample_bylevel=None, colsample_bynode=None,\n",
       "              colsample_bytree=0.7, device=None, early_stopping_rounds=None,\n",
       "              enable_categorical=False, eta=0.2,\n",
       "              eval_metric=&lt;function acc at 0x7fce4371bee0&gt;, feature_types=None,\n",
       "              gamma=0.4, grow_policy=None, importance_type=None,\n",
       "              interaction_constraints=None, learning_rate=None, max_bin=None,\n",
       "              max_cat_threshold=None, max_cat_to_onehot=None,\n",
       "              max_delta_step=None, max_depth=10, max_leaves=None,\n",
       "              min_child_weight=1, missing=nan, monotone_constraints=None,\n",
       "              multi_strategy=None, n_estimators=150, n_jobs=-1,\n",
       "              num_parallel_tree=None, ...)</pre></div></div></div></div></div>"
      ],
      "text/plain": [
       "XGBClassifier(base_score=None, booster=None, callbacks=None,\n",
       "              colsample_bylevel=None, colsample_bynode=None,\n",
       "              colsample_bytree=0.7, device=None, early_stopping_rounds=None,\n",
       "              enable_categorical=False, eta=0.2,\n",
       "              eval_metric=<function acc at 0x7fce4371bee0>, feature_types=None,\n",
       "              gamma=0.4, grow_policy=None, importance_type=None,\n",
       "              interaction_constraints=None, learning_rate=None, max_bin=None,\n",
       "              max_cat_threshold=None, max_cat_to_onehot=None,\n",
       "              max_delta_step=None, max_depth=10, max_leaves=None,\n",
       "              min_child_weight=1, missing=nan, monotone_constraints=None,\n",
       "              multi_strategy=None, n_estimators=150, n_jobs=-1,\n",
       "              num_parallel_tree=None, ...)"
      ]
     },
     "execution_count": 133,
     "metadata": {},
     "output_type": "execute_result"
    }
   ],
   "source": [
    "param_test = {\n",
    " 'n_estimators':       150,\n",
    " 'max_depth':          10,    \n",
    " 'subsample':          0.7,\n",
    " 'min_child_weight':   1,\n",
    " 'colsample_bytree':   0.7,    \n",
    " 'gamma':              0.4,\n",
    " 'eta':                0.2,\n",
    "}\n",
    "xgb_model = XGBClassifier(**param_test, eval_metric=acc, n_jobs=-1, verbosity=1)\n",
    "evals = [(X, y)]\n",
    "xgb_model.fit(X, y, eval_set=evals, verbose=50)"
   ]
  },
  {
   "cell_type": "code",
   "execution_count": 139,
   "metadata": {},
   "outputs": [
    {
     "data": {
      "text/plain": [
       "0.88771"
      ]
     },
     "execution_count": 139,
     "metadata": {},
     "output_type": "execute_result"
    }
   ],
   "source": [
    "xgb_model.evals_result()['validation_0']['acc'][-1:][0]"
   ]
  },
  {
   "cell_type": "markdown",
   "metadata": {},
   "source": [
    "**Submission** отправленный на проверку выдал качество ***Accuracy = 0.8172***"
   ]
  },
  {
   "cell_type": "code",
   "execution_count": 145,
   "metadata": {
    "scrolled": true
   },
   "outputs": [],
   "source": [
    "Inference(xgb_model, 'subs/final_prediction_30082024_2.csv')"
   ]
  },
  {
   "cell_type": "markdown",
   "metadata": {},
   "source": [
    "Сохраним модель:"
   ]
  },
  {
   "cell_type": "code",
   "execution_count": 144,
   "metadata": {},
   "outputs": [],
   "source": [
    "xgb_model.save_model('models/xgboost_model_1lvl.model') "
   ]
  },
  {
   "cell_type": "code",
   "execution_count": 145,
   "metadata": {},
   "outputs": [],
   "source": [
    "# xgb_model = XGBClassifier()\n",
    "# xgb_model.load_model('models/xgboost_model_1lvl.model')"
   ]
  },
  {
   "cell_type": "markdown",
   "metadata": {},
   "source": [
    "# 1 Level: `RandomForestClassifier` 🪵"
   ]
  },
  {
   "cell_type": "markdown",
   "metadata": {},
   "source": [
    "Обучим следующую модель – случайный лес. И найдём лучшие параметры для неё:"
   ]
  },
  {
   "cell_type": "code",
   "execution_count": 42,
   "metadata": {},
   "outputs": [],
   "source": [
    "mypipeline = Pipeline([\n",
    "    ('forest', RandomForestClassifier())\n",
    "])"
   ]
  },
  {
   "cell_type": "code",
   "execution_count": 43,
   "metadata": {},
   "outputs": [],
   "source": [
    "param_grid_base = {\n",
    "              'forest__n_estimators': [340],\n",
    "              'forest__min_samples_split': [4],\n",
    "              'forest__min_samples_leaf': [1],\n",
    "              'forest__max_features': [24],\n",
    "              'forest__max_depth': [25]\n",
    "}"
   ]
  },
  {
   "cell_type": "code",
   "execution_count": 44,
   "metadata": {
    "scrolled": true
   },
   "outputs": [
    {
     "name": "stdout",
     "output_type": "stream",
     "text": [
      "Fitting 3 folds for each of 1 candidates, totalling 3 fits\n"
     ]
    }
   ],
   "source": [
    "kf = StratifiedKFold(n_splits=3, shuffle=True, random_state=333)\n",
    "\n",
    "hyper_search = RandomizedSearchCV(mypipeline, param_grid_base, n_iter=1, scoring='accuracy', \n",
    "                                  cv=kf, n_jobs=-1, refit=True, random_state=333,\n",
    "                                  verbose=2)\n",
    "hyper_search.fit(X, y)"
   ]
  },
  {
   "cell_type": "code",
   "execution_count": 49,
   "metadata": {},
   "outputs": [
    {
     "data": {
      "text/plain": [
       "(0.8115488215488216,\n",
       " {'forest__n_estimators': 340,\n",
       "  'forest__min_samples_split': 4,\n",
       "  'forest__min_samples_leaf': 1,\n",
       "  'forest__max_features': 24,\n",
       "  'forest__max_depth': 25})"
      ]
     },
     "execution_count": 49,
     "metadata": {},
     "output_type": "execute_result"
    }
   ],
   "source": [
    "hyper_search.best_score_, hyper_search.best_params_   "
   ]
  },
  {
   "cell_type": "code",
   "execution_count": 373,
   "metadata": {
    "scrolled": true
   },
   "outputs": [],
   "source": [
    "# dfdf = pd.DataFrame(hyper_search.cv_results_)\n",
    "# dfdf.sort_values(by = ['mean_test_score'], ascending = False)\n",
    "# rf_model = hyper_search.best_estimator_"
   ]
  },
  {
   "cell_type": "code",
   "execution_count": 148,
   "metadata": {},
   "outputs": [
    {
     "name": "stderr",
     "output_type": "stream",
     "text": [
      "/Users/gregor/miniconda3/lib/python3.8/site-packages/sklearn/base.py:1152: DataConversionWarning: A column-vector y was passed when a 1d array was expected. Please change the shape of y to (n_samples,), for example using ravel().\n",
      "  return fit_method(estimator, *args, **kwargs)\n"
     ]
    },
    {
     "data": {
      "text/html": [
       "<style>#sk-container-id-4 {color: black;}#sk-container-id-4 pre{padding: 0;}#sk-container-id-4 div.sk-toggleable {background-color: white;}#sk-container-id-4 label.sk-toggleable__label {cursor: pointer;display: block;width: 100%;margin-bottom: 0;padding: 0.3em;box-sizing: border-box;text-align: center;}#sk-container-id-4 label.sk-toggleable__label-arrow:before {content: \"▸\";float: left;margin-right: 0.25em;color: #696969;}#sk-container-id-4 label.sk-toggleable__label-arrow:hover:before {color: black;}#sk-container-id-4 div.sk-estimator:hover label.sk-toggleable__label-arrow:before {color: black;}#sk-container-id-4 div.sk-toggleable__content {max-height: 0;max-width: 0;overflow: hidden;text-align: left;background-color: #f0f8ff;}#sk-container-id-4 div.sk-toggleable__content pre {margin: 0.2em;color: black;border-radius: 0.25em;background-color: #f0f8ff;}#sk-container-id-4 input.sk-toggleable__control:checked~div.sk-toggleable__content {max-height: 200px;max-width: 100%;overflow: auto;}#sk-container-id-4 input.sk-toggleable__control:checked~label.sk-toggleable__label-arrow:before {content: \"▾\";}#sk-container-id-4 div.sk-estimator input.sk-toggleable__control:checked~label.sk-toggleable__label {background-color: #d4ebff;}#sk-container-id-4 div.sk-label input.sk-toggleable__control:checked~label.sk-toggleable__label {background-color: #d4ebff;}#sk-container-id-4 input.sk-hidden--visually {border: 0;clip: rect(1px 1px 1px 1px);clip: rect(1px, 1px, 1px, 1px);height: 1px;margin: -1px;overflow: hidden;padding: 0;position: absolute;width: 1px;}#sk-container-id-4 div.sk-estimator {font-family: monospace;background-color: #f0f8ff;border: 1px dotted black;border-radius: 0.25em;box-sizing: border-box;margin-bottom: 0.5em;}#sk-container-id-4 div.sk-estimator:hover {background-color: #d4ebff;}#sk-container-id-4 div.sk-parallel-item::after {content: \"\";width: 100%;border-bottom: 1px solid gray;flex-grow: 1;}#sk-container-id-4 div.sk-label:hover label.sk-toggleable__label {background-color: #d4ebff;}#sk-container-id-4 div.sk-serial::before {content: \"\";position: absolute;border-left: 1px solid gray;box-sizing: border-box;top: 0;bottom: 0;left: 50%;z-index: 0;}#sk-container-id-4 div.sk-serial {display: flex;flex-direction: column;align-items: center;background-color: white;padding-right: 0.2em;padding-left: 0.2em;position: relative;}#sk-container-id-4 div.sk-item {position: relative;z-index: 1;}#sk-container-id-4 div.sk-parallel {display: flex;align-items: stretch;justify-content: center;background-color: white;position: relative;}#sk-container-id-4 div.sk-item::before, #sk-container-id-4 div.sk-parallel-item::before {content: \"\";position: absolute;border-left: 1px solid gray;box-sizing: border-box;top: 0;bottom: 0;left: 50%;z-index: -1;}#sk-container-id-4 div.sk-parallel-item {display: flex;flex-direction: column;z-index: 1;position: relative;background-color: white;}#sk-container-id-4 div.sk-parallel-item:first-child::after {align-self: flex-end;width: 50%;}#sk-container-id-4 div.sk-parallel-item:last-child::after {align-self: flex-start;width: 50%;}#sk-container-id-4 div.sk-parallel-item:only-child::after {width: 0;}#sk-container-id-4 div.sk-dashed-wrapped {border: 1px dashed gray;margin: 0 0.4em 0.5em 0.4em;box-sizing: border-box;padding-bottom: 0.4em;background-color: white;}#sk-container-id-4 div.sk-label label {font-family: monospace;font-weight: bold;display: inline-block;line-height: 1.2em;}#sk-container-id-4 div.sk-label-container {text-align: center;}#sk-container-id-4 div.sk-container {/* jupyter's `normalize.less` sets `[hidden] { display: none; }` but bootstrap.min.css set `[hidden] { display: none !important; }` so we also need the `!important` here to be able to override the default hidden behavior on the sphinx rendered scikit-learn.org. See: https://github.com/scikit-learn/scikit-learn/issues/21755 */display: inline-block !important;position: relative;}#sk-container-id-4 div.sk-text-repr-fallback {display: none;}</style><div id=\"sk-container-id-4\" class=\"sk-top-container\"><div class=\"sk-text-repr-fallback\"><pre>RandomForestClassifier(max_depth=25, max_features=24, min_samples_split=4,\n",
       "                       n_estimators=340, random_state=777)</pre><b>In a Jupyter environment, please rerun this cell to show the HTML representation or trust the notebook. <br />On GitHub, the HTML representation is unable to render, please try loading this page with nbviewer.org.</b></div><div class=\"sk-container\" hidden><div class=\"sk-item\"><div class=\"sk-estimator sk-toggleable\"><input class=\"sk-toggleable__control sk-hidden--visually\" id=\"sk-estimator-id-4\" type=\"checkbox\" checked><label for=\"sk-estimator-id-4\" class=\"sk-toggleable__label sk-toggleable__label-arrow\">RandomForestClassifier</label><div class=\"sk-toggleable__content\"><pre>RandomForestClassifier(max_depth=25, max_features=24, min_samples_split=4,\n",
       "                       n_estimators=340, random_state=777)</pre></div></div></div></div></div>"
      ],
      "text/plain": [
       "RandomForestClassifier(max_depth=25, max_features=24, min_samples_split=4,\n",
       "                       n_estimators=340, random_state=777)"
      ]
     },
     "execution_count": 148,
     "metadata": {},
     "output_type": "execute_result"
    }
   ],
   "source": [
    "params = {\n",
    "'n_estimators':       340,\n",
    "'min_samples_split':  4,\n",
    "'min_samples_leaf':   1,\n",
    "'max_features':       24,\n",
    "'max_depth':          25  \n",
    "}\n",
    "\n",
    "rf_model = RandomForestClassifier(**params, random_state=777)\n",
    "rf_model.fit(X, y)"
   ]
  },
  {
   "cell_type": "code",
   "execution_count": 149,
   "metadata": {},
   "outputs": [
    {
     "name": "stdout",
     "output_type": "stream",
     "text": [
      "0.9230134680134681\n"
     ]
    }
   ],
   "source": [
    "y_pred_train = rf_model.predict(X)\n",
    "\n",
    "print(accuracy_score(y, y_pred_train))"
   ]
  },
  {
   "cell_type": "markdown",
   "metadata": {},
   "source": [
    "Инференс случайного леса составил ***Accuracy = 0.8204***. Ого! Даже круче бустингов.."
   ]
  },
  {
   "cell_type": "code",
   "execution_count": 158,
   "metadata": {},
   "outputs": [],
   "source": [
    "Inference(rf_model, 'subs/final_prediction_31082024_1.csv')"
   ]
  },
  {
   "cell_type": "markdown",
   "metadata": {},
   "source": [
    "Сохраним модель:"
   ]
  },
  {
   "cell_type": "code",
   "execution_count": 157,
   "metadata": {},
   "outputs": [],
   "source": [
    "joblib.dump(rf_model, 'models/random_forest_model_1lvl.joblib')"
   ]
  },
  {
   "cell_type": "code",
   "execution_count": 158,
   "metadata": {},
   "outputs": [],
   "source": [
    "# rf_model = joblib.load('models/random_forest_model_1lvl.joblib')"
   ]
  },
  {
   "cell_type": "markdown",
   "metadata": {},
   "source": [
    "# 1 Level: `KNeighborsClassifier` 🕸️"
   ]
  },
  {
   "cell_type": "markdown",
   "metadata": {},
   "source": [
    "Следующая модель: KNN, причём признаки будем стандартизовывать с помощью `StandardScaler`, это важно для метрических алгоритмов."
   ]
  },
  {
   "cell_type": "code",
   "execution_count": 160,
   "metadata": {},
   "outputs": [],
   "source": [
    "mypipeknn = Pipeline([\n",
    "    ('scaler', StandardScaler()),\n",
    "    ('knn', KNeighborsClassifier())\n",
    "])"
   ]
  },
  {
   "cell_type": "code",
   "execution_count": 161,
   "metadata": {},
   "outputs": [],
   "source": [
    "# paramknn = {\n",
    "#     'knn__n_neighbors': range(5, 40, 1),\n",
    "#     'knn__weights': ['uniform', 'distance'],\n",
    "#     'knn__metric': ['minkowski', 'euclidean', 'chebyshev', 'manhattan', 'canberra'],\n",
    "#     'knn__algorithm': ['auto', 'ball_tree', 'kd_tree', 'brute'],\n",
    "# }\n",
    "\n",
    "paramknn = {\n",
    " 'knn__weights': ['distance'],\n",
    " 'knn__n_neighbors': [17],\n",
    " 'knn__metric': ['canberra'],\n",
    " 'knn__algorithm': ['auto']\n",
    "}"
   ]
  },
  {
   "cell_type": "code",
   "execution_count": 162,
   "metadata": {},
   "outputs": [],
   "source": [
    "kf = StratifiedKFold(n_splits=3, shuffle=True, random_state=222)     "
   ]
  },
  {
   "cell_type": "code",
   "execution_count": 163,
   "metadata": {
    "scrolled": true
   },
   "outputs": [
    {
     "name": "stdout",
     "output_type": "stream",
     "text": [
      "Fitting 3 folds for each of 1 candidates, totalling 3 fits\n"
     ]
    },
    {
     "name": "stderr",
     "output_type": "stream",
     "text": [
      "/Users/gregor/miniconda3/lib/python3.8/site-packages/sklearn/neighbors/_classification.py:233: DataConversionWarning: A column-vector y was passed when a 1d array was expected. Please change the shape of y to (n_samples,), for example using ravel().\n",
      "  return self._fit(X, y)\n"
     ]
    }
   ],
   "source": [
    "hyper_search = RandomizedSearchCV(mypipeknn, paramknn, n_iter=1, scoring='accuracy', \n",
    "                                  cv=kf, n_jobs=-1, refit=True, random_state=643,\n",
    "                                  verbose=2)\n",
    "hyper_search.fit(X, y)"
   ]
  },
  {
   "cell_type": "code",
   "execution_count": 164,
   "metadata": {},
   "outputs": [
    {
     "data": {
      "text/plain": [
       "{'knn__weights': 'distance',\n",
       " 'knn__n_neighbors': 17,\n",
       " 'knn__metric': 'canberra',\n",
       " 'knn__algorithm': 'auto'}"
      ]
     },
     "execution_count": 164,
     "metadata": {},
     "output_type": "execute_result"
    }
   ],
   "source": [
    "hyper_search.best_params_"
   ]
  },
  {
   "cell_type": "code",
   "execution_count": 165,
   "metadata": {},
   "outputs": [
    {
     "data": {
      "text/plain": [
       "0.785942760942761"
      ]
     },
     "execution_count": 165,
     "metadata": {},
     "output_type": "execute_result"
    }
   ],
   "source": [
    "hyper_search.best_score_"
   ]
  },
  {
   "cell_type": "code",
   "execution_count": 166,
   "metadata": {},
   "outputs": [],
   "source": [
    "knn_model = hyper_search.best_estimator_ # 0.8006"
   ]
  },
  {
   "cell_type": "code",
   "execution_count": 167,
   "metadata": {},
   "outputs": [
    {
     "data": {
      "text/html": [
       "<style>#sk-container-id-5 {color: black;}#sk-container-id-5 pre{padding: 0;}#sk-container-id-5 div.sk-toggleable {background-color: white;}#sk-container-id-5 label.sk-toggleable__label {cursor: pointer;display: block;width: 100%;margin-bottom: 0;padding: 0.3em;box-sizing: border-box;text-align: center;}#sk-container-id-5 label.sk-toggleable__label-arrow:before {content: \"▸\";float: left;margin-right: 0.25em;color: #696969;}#sk-container-id-5 label.sk-toggleable__label-arrow:hover:before {color: black;}#sk-container-id-5 div.sk-estimator:hover label.sk-toggleable__label-arrow:before {color: black;}#sk-container-id-5 div.sk-toggleable__content {max-height: 0;max-width: 0;overflow: hidden;text-align: left;background-color: #f0f8ff;}#sk-container-id-5 div.sk-toggleable__content pre {margin: 0.2em;color: black;border-radius: 0.25em;background-color: #f0f8ff;}#sk-container-id-5 input.sk-toggleable__control:checked~div.sk-toggleable__content {max-height: 200px;max-width: 100%;overflow: auto;}#sk-container-id-5 input.sk-toggleable__control:checked~label.sk-toggleable__label-arrow:before {content: \"▾\";}#sk-container-id-5 div.sk-estimator input.sk-toggleable__control:checked~label.sk-toggleable__label {background-color: #d4ebff;}#sk-container-id-5 div.sk-label input.sk-toggleable__control:checked~label.sk-toggleable__label {background-color: #d4ebff;}#sk-container-id-5 input.sk-hidden--visually {border: 0;clip: rect(1px 1px 1px 1px);clip: rect(1px, 1px, 1px, 1px);height: 1px;margin: -1px;overflow: hidden;padding: 0;position: absolute;width: 1px;}#sk-container-id-5 div.sk-estimator {font-family: monospace;background-color: #f0f8ff;border: 1px dotted black;border-radius: 0.25em;box-sizing: border-box;margin-bottom: 0.5em;}#sk-container-id-5 div.sk-estimator:hover {background-color: #d4ebff;}#sk-container-id-5 div.sk-parallel-item::after {content: \"\";width: 100%;border-bottom: 1px solid gray;flex-grow: 1;}#sk-container-id-5 div.sk-label:hover label.sk-toggleable__label {background-color: #d4ebff;}#sk-container-id-5 div.sk-serial::before {content: \"\";position: absolute;border-left: 1px solid gray;box-sizing: border-box;top: 0;bottom: 0;left: 50%;z-index: 0;}#sk-container-id-5 div.sk-serial {display: flex;flex-direction: column;align-items: center;background-color: white;padding-right: 0.2em;padding-left: 0.2em;position: relative;}#sk-container-id-5 div.sk-item {position: relative;z-index: 1;}#sk-container-id-5 div.sk-parallel {display: flex;align-items: stretch;justify-content: center;background-color: white;position: relative;}#sk-container-id-5 div.sk-item::before, #sk-container-id-5 div.sk-parallel-item::before {content: \"\";position: absolute;border-left: 1px solid gray;box-sizing: border-box;top: 0;bottom: 0;left: 50%;z-index: -1;}#sk-container-id-5 div.sk-parallel-item {display: flex;flex-direction: column;z-index: 1;position: relative;background-color: white;}#sk-container-id-5 div.sk-parallel-item:first-child::after {align-self: flex-end;width: 50%;}#sk-container-id-5 div.sk-parallel-item:last-child::after {align-self: flex-start;width: 50%;}#sk-container-id-5 div.sk-parallel-item:only-child::after {width: 0;}#sk-container-id-5 div.sk-dashed-wrapped {border: 1px dashed gray;margin: 0 0.4em 0.5em 0.4em;box-sizing: border-box;padding-bottom: 0.4em;background-color: white;}#sk-container-id-5 div.sk-label label {font-family: monospace;font-weight: bold;display: inline-block;line-height: 1.2em;}#sk-container-id-5 div.sk-label-container {text-align: center;}#sk-container-id-5 div.sk-container {/* jupyter's `normalize.less` sets `[hidden] { display: none; }` but bootstrap.min.css set `[hidden] { display: none !important; }` so we also need the `!important` here to be able to override the default hidden behavior on the sphinx rendered scikit-learn.org. See: https://github.com/scikit-learn/scikit-learn/issues/21755 */display: inline-block !important;position: relative;}#sk-container-id-5 div.sk-text-repr-fallback {display: none;}</style><div id=\"sk-container-id-5\" class=\"sk-top-container\"><div class=\"sk-text-repr-fallback\"><pre>Pipeline(steps=[(&#x27;scaler&#x27;, StandardScaler()),\n",
       "                (&#x27;knn&#x27;,\n",
       "                 KNeighborsClassifier(metric=&#x27;canberra&#x27;, n_neighbors=17,\n",
       "                                      weights=&#x27;distance&#x27;))])</pre><b>In a Jupyter environment, please rerun this cell to show the HTML representation or trust the notebook. <br />On GitHub, the HTML representation is unable to render, please try loading this page with nbviewer.org.</b></div><div class=\"sk-container\" hidden><div class=\"sk-item sk-dashed-wrapped\"><div class=\"sk-label-container\"><div class=\"sk-label sk-toggleable\"><input class=\"sk-toggleable__control sk-hidden--visually\" id=\"sk-estimator-id-5\" type=\"checkbox\" ><label for=\"sk-estimator-id-5\" class=\"sk-toggleable__label sk-toggleable__label-arrow\">Pipeline</label><div class=\"sk-toggleable__content\"><pre>Pipeline(steps=[(&#x27;scaler&#x27;, StandardScaler()),\n",
       "                (&#x27;knn&#x27;,\n",
       "                 KNeighborsClassifier(metric=&#x27;canberra&#x27;, n_neighbors=17,\n",
       "                                      weights=&#x27;distance&#x27;))])</pre></div></div></div><div class=\"sk-serial\"><div class=\"sk-item\"><div class=\"sk-estimator sk-toggleable\"><input class=\"sk-toggleable__control sk-hidden--visually\" id=\"sk-estimator-id-6\" type=\"checkbox\" ><label for=\"sk-estimator-id-6\" class=\"sk-toggleable__label sk-toggleable__label-arrow\">StandardScaler</label><div class=\"sk-toggleable__content\"><pre>StandardScaler()</pre></div></div></div><div class=\"sk-item\"><div class=\"sk-estimator sk-toggleable\"><input class=\"sk-toggleable__control sk-hidden--visually\" id=\"sk-estimator-id-7\" type=\"checkbox\" ><label for=\"sk-estimator-id-7\" class=\"sk-toggleable__label sk-toggleable__label-arrow\">KNeighborsClassifier</label><div class=\"sk-toggleable__content\"><pre>KNeighborsClassifier(metric=&#x27;canberra&#x27;, n_neighbors=17, weights=&#x27;distance&#x27;)</pre></div></div></div></div></div></div></div>"
      ],
      "text/plain": [
       "Pipeline(steps=[('scaler', StandardScaler()),\n",
       "                ('knn',\n",
       "                 KNeighborsClassifier(metric='canberra', n_neighbors=17,\n",
       "                                      weights='distance'))])"
      ]
     },
     "execution_count": 167,
     "metadata": {},
     "output_type": "execute_result"
    }
   ],
   "source": [
    "knn_model"
   ]
  },
  {
   "cell_type": "code",
   "execution_count": null,
   "metadata": {
    "scrolled": true
   },
   "outputs": [],
   "source": [
    "#Добаввить scaler\n",
    "# params = {\n",
    "#     'n_neighbors' :     17,\n",
    "#      'weights'     :     'distance',\n",
    "#      'metric'      :     'canberra',\n",
    "#      'algorithm'   :     'auto'  \n",
    "# }\n",
    "\n",
    "# knn_model = KNeighborsClassifier(**params) \n",
    "# knn_model.fit(X, y)\n",
    "# y_pred_train = knn_model.predict(X)\n",
    "# accuracy = accuracy_score(y, y_pred_train)\n",
    "# print(accuracy)"
   ]
  },
  {
   "cell_type": "markdown",
   "metadata": {},
   "source": [
    "Инференс KNN составил ***Accuracy = 0.8005***. Knn даст прирост в стекинге моделей 😃"
   ]
  },
  {
   "cell_type": "code",
   "execution_count": 168,
   "metadata": {},
   "outputs": [],
   "source": [
    "Inference(knn_model, 'subs/final_prediction_31082024_knn.csv')"
   ]
  },
  {
   "cell_type": "markdown",
   "metadata": {},
   "source": [
    "Сохраним модель:"
   ]
  },
  {
   "cell_type": "code",
   "execution_count": 169,
   "metadata": {},
   "outputs": [
    {
     "data": {
      "text/plain": [
       "['models/knn_model_1lvl.joblib']"
      ]
     },
     "execution_count": 169,
     "metadata": {},
     "output_type": "execute_result"
    }
   ],
   "source": [
    "joblib.dump(knn_model, 'models/knn_model_1lvl.joblib')"
   ]
  },
  {
   "cell_type": "code",
   "execution_count": 170,
   "metadata": {},
   "outputs": [],
   "source": [
    "# knn_model = joblib.load('models/knn_model_1lvl.joblib')"
   ]
  },
  {
   "cell_type": "markdown",
   "metadata": {},
   "source": [
    "# Stacking 🤖"
   ]
  },
  {
   "cell_type": "markdown",
   "metadata": {},
   "source": [
    "<div class=\"alert alert-info\">\n",
    "\n",
    "**Стекинг моделей** — это метод ансамблевого обучения, который позволяет комбинировать предсказания нескольких моделей, чтобы улучшить общую производительность.\n",
    "\n",
    "После обучения базовых моделей получим их **предсказания на каждом фолде данных** (рисунок ниже).\n",
    "\n",
    "Эти предсказания базовых моделей будут новыми признаками (**мета-признаки**) для обучения мета-модели (второго уровня).\n",
    "    \n",
    "Также, нужны прогнозы всех базовых моделей на тест, причём обученных уже на всех данных.    "
   ]
  },
  {
   "cell_type": "markdown",
   "metadata": {},
   "source": [
    "<img src='images/stack_schema.gif' />"
   ]
  },
  {
   "cell_type": "code",
   "execution_count": 171,
   "metadata": {},
   "outputs": [],
   "source": [
    "models = [\n",
    "  catboost_model,\n",
    "  xgb_model,    \n",
    "  rf_model,\n",
    "  knn_model  \n",
    "]\n",
    "\n",
    "X_test = test[test.columns[1:]]\n",
    "X_te = X_test[imp_feat]\n",
    "\n",
    "# предсказания для трэйна всех моделей через кроссвалидацию\n",
    "S_train_B_scratch = np.zeros((X.shape[0], len(models)*3))\n",
    "\n",
    "# предсказания всех моделей для теста\n",
    "S_test_B_scratch = np.zeros((X_te.shape[0], len(models)*3))"
   ]
  },
  {
   "cell_type": "code",
   "execution_count": 172,
   "metadata": {},
   "outputs": [],
   "source": [
    "import warnings\n",
    "from sklearn.exceptions import DataConversionWarning\n",
    "warnings.filterwarnings('ignore', category=DataConversionWarning)"
   ]
  },
  {
   "cell_type": "code",
   "execution_count": 173,
   "metadata": {
    "scrolled": true
   },
   "outputs": [],
   "source": [
    "kf = StratifiedKFold(n_splits=5, shuffle=True, random_state=777)     \n",
    "for i in range(len(models)):\n",
    "    for fold_counter, (train_index, test_index) in enumerate(kf.split(X, y)):\n",
    "        X_train_cv, X_test_cv = X.iloc[train_index], X.iloc[test_index]\n",
    "        y_train_cv, y_test_cv = y.iloc[train_index], y.iloc[test_index]  \n",
    "        \n",
    "        if i < 2: _ = models[i].fit(X_train_cv, y_train_cv, verbose=False)\n",
    "        else: _ = models[i].fit(X_train_cv, y_train_cv)\n",
    "\n",
    "        S_train_B_scratch[test_index, 3*i : ((3*i)+3)] = models[i].predict_proba(X_test_cv) "
   ]
  },
  {
   "cell_type": "code",
   "execution_count": 174,
   "metadata": {
    "scrolled": true
   },
   "outputs": [],
   "source": [
    "# Обучаемся на полном трэйне, предсказываем тест\n",
    "for i in range(len(models)):\n",
    "    if i < 2: _ = models[i].fit(X, y, verbose=False)\n",
    "    else: _ = models[i].fit(X, y)\n",
    "    S_test_B_scratch[:, 3*i : ((3*i)+3)]  = models[i].predict_proba(X_te)"
   ]
  },
  {
   "cell_type": "markdown",
   "metadata": {},
   "source": [
    "--------------"
   ]
  },
  {
   "cell_type": "markdown",
   "metadata": {},
   "source": [
    "# 2 Level: `RandomForestClassifier` 🌳🌴"
   ]
  },
  {
   "cell_type": "markdown",
   "metadata": {},
   "source": [
    "<img src='images/diagramma2.png' />"
   ]
  },
  {
   "cell_type": "markdown",
   "metadata": {},
   "source": [
    "Обучим случайный лес на ответах предыдущих четырёх моделей и на нашем признаковом пространстве. Найдём наилучшие параметры."
   ]
  },
  {
   "cell_type": "code",
   "execution_count": 176,
   "metadata": {},
   "outputs": [],
   "source": [
    "TRAIN = X.copy()\n",
    "TRAIN[['cat0','cat1','cat2']] = S_train_B_scratch[:, 0:3]\n",
    "TRAIN[['xgb0', 'xgb1', 'xgb2']] = S_train_B_scratch[:, 3:6]\n",
    "TRAIN[['rf0', 'rf1', 'rf2']] = S_train_B_scratch[:, 6:9]\n",
    "TRAIN[['knn0', 'knn1', 'knn2']] = S_train_B_scratch[:, 9:12]\n",
    "\n",
    "TEST = X_te.copy()\n",
    "TEST[['cat0','cat1','cat2']] = S_test_B_scratch[:, 0:3]\n",
    "TEST[['xgb0', 'xgb1', 'xgb2']] = S_test_B_scratch[:, 3:6]\n",
    "TEST[['rf0', 'rf1', 'rf2']] = S_test_B_scratch[:, 6:9]\n",
    "TEST[['knn0', 'knn1', 'knn2']] = S_test_B_scratch[:, 9:12]"
   ]
  },
  {
   "cell_type": "code",
   "execution_count": 177,
   "metadata": {},
   "outputs": [],
   "source": [
    "mypipeline = Pipeline([\n",
    "    ('forest', RandomForestClassifier())\n",
    "])"
   ]
  },
  {
   "cell_type": "code",
   "execution_count": 178,
   "metadata": {},
   "outputs": [],
   "source": [
    "# param_grid_base = {\n",
    "#               'forest__n_estimators':            np.arange(350, 400, 10),\n",
    "#               'forest__min_samples_split':       range(1, 5),\n",
    "#               'forest__min_samples_leaf':        [1, 2, 3],\n",
    "#               'forest__max_features':            [8, 10, 13, 14, 15, 16, 17, 18, 20, 23, 26, 30],\n",
    "#               'forest__max_depth':               np.arange(10, 26, 2) \n",
    "# }\n",
    "\n",
    "param_grid_base = {\n",
    "              'forest__n_estimators':            [350],\n",
    "#               'forest__min_samples_split':       range(1, 5),\n",
    "#               'forest__min_samples_leaf':        [1, 2, 3],\n",
    "              'forest__max_features':            [10],\n",
    "              'forest__max_depth':               [21]\n",
    "}"
   ]
  },
  {
   "cell_type": "code",
   "execution_count": 180,
   "metadata": {
    "scrolled": true
   },
   "outputs": [
    {
     "name": "stdout",
     "output_type": "stream",
     "text": [
      "Fitting 5 folds for each of 1 candidates, totalling 5 fits\n"
     ]
    }
   ],
   "source": [
    "kf = StratifiedKFold(n_splits=5, shuffle=True, random_state=777) \n",
    "\n",
    "hyper_search = RandomizedSearchCV(mypipeline, param_grid_base, n_iter=1, scoring='accuracy', \n",
    "                                  cv=kf, n_jobs=-1, refit=True, random_state=333,\n",
    "                                  verbose=2)\n",
    "hyper_search.fit(TRAIN, y)"
   ]
  },
  {
   "cell_type": "code",
   "execution_count": 181,
   "metadata": {},
   "outputs": [
    {
     "data": {
      "text/plain": [
       "({'forest__n_estimators': 350,\n",
       "  'forest__max_features': 10,\n",
       "  'forest__max_depth': 21},\n",
       " 0.8202356902356902)"
      ]
     },
     "execution_count": 181,
     "metadata": {},
     "output_type": "execute_result"
    }
   ],
   "source": [
    "hyper_search.best_params_, hyper_search.best_score_  "
   ]
  },
  {
   "cell_type": "code",
   "execution_count": 182,
   "metadata": {},
   "outputs": [
    {
     "data": {
      "text/plain": [
       "{'mean_fit_time': array([51.28556695]),\n",
       " 'std_fit_time': array([0.10938308]),\n",
       " 'mean_score_time': array([2.21605363]),\n",
       " 'std_score_time': array([0.01158005]),\n",
       " 'param_forest__n_estimators': masked_array(data=[350],\n",
       "              mask=[False],\n",
       "        fill_value='?',\n",
       "             dtype=object),\n",
       " 'param_forest__max_features': masked_array(data=[10],\n",
       "              mask=[False],\n",
       "        fill_value='?',\n",
       "             dtype=object),\n",
       " 'param_forest__max_depth': masked_array(data=[21],\n",
       "              mask=[False],\n",
       "        fill_value='?',\n",
       "             dtype=object),\n",
       " 'params': [{'forest__n_estimators': 350,\n",
       "   'forest__max_features': 10,\n",
       "   'forest__max_depth': 21}],\n",
       " 'split0_test_score': array([0.81675084]),\n",
       " 'split1_test_score': array([0.81994949]),\n",
       " 'split2_test_score': array([0.81944444]),\n",
       " 'split3_test_score': array([0.82222222]),\n",
       " 'split4_test_score': array([0.82281145]),\n",
       " 'mean_test_score': array([0.82023569]),\n",
       " 'std_test_score': array([0.00216485]),\n",
       " 'rank_test_score': array([1], dtype=int32)}"
      ]
     },
     "execution_count": 182,
     "metadata": {},
     "output_type": "execute_result"
    }
   ],
   "source": [
    "hyper_search.cv_results_"
   ]
  },
  {
   "cell_type": "code",
   "execution_count": 372,
   "metadata": {},
   "outputs": [],
   "source": [
    "best_model_stack_rf = hyper_search.best_estimator_ "
   ]
  },
  {
   "cell_type": "code",
   "execution_count": 183,
   "metadata": {},
   "outputs": [],
   "source": [
    "joblib.dump(best_model_stack_rf, 'models/best_model_stack_rf_17092024_1.joblib')\n",
    "# best_model_stack_rf = joblib.load('models/best_model_stack_rf_17092024_1.joblib')"
   ]
  },
  {
   "cell_type": "code",
   "execution_count": 184,
   "metadata": {},
   "outputs": [
    {
     "data": {
      "text/html": [
       "<style>#sk-container-id-1 {color: black;}#sk-container-id-1 pre{padding: 0;}#sk-container-id-1 div.sk-toggleable {background-color: white;}#sk-container-id-1 label.sk-toggleable__label {cursor: pointer;display: block;width: 100%;margin-bottom: 0;padding: 0.3em;box-sizing: border-box;text-align: center;}#sk-container-id-1 label.sk-toggleable__label-arrow:before {content: \"▸\";float: left;margin-right: 0.25em;color: #696969;}#sk-container-id-1 label.sk-toggleable__label-arrow:hover:before {color: black;}#sk-container-id-1 div.sk-estimator:hover label.sk-toggleable__label-arrow:before {color: black;}#sk-container-id-1 div.sk-toggleable__content {max-height: 0;max-width: 0;overflow: hidden;text-align: left;background-color: #f0f8ff;}#sk-container-id-1 div.sk-toggleable__content pre {margin: 0.2em;color: black;border-radius: 0.25em;background-color: #f0f8ff;}#sk-container-id-1 input.sk-toggleable__control:checked~div.sk-toggleable__content {max-height: 200px;max-width: 100%;overflow: auto;}#sk-container-id-1 input.sk-toggleable__control:checked~label.sk-toggleable__label-arrow:before {content: \"▾\";}#sk-container-id-1 div.sk-estimator input.sk-toggleable__control:checked~label.sk-toggleable__label {background-color: #d4ebff;}#sk-container-id-1 div.sk-label input.sk-toggleable__control:checked~label.sk-toggleable__label {background-color: #d4ebff;}#sk-container-id-1 input.sk-hidden--visually {border: 0;clip: rect(1px 1px 1px 1px);clip: rect(1px, 1px, 1px, 1px);height: 1px;margin: -1px;overflow: hidden;padding: 0;position: absolute;width: 1px;}#sk-container-id-1 div.sk-estimator {font-family: monospace;background-color: #f0f8ff;border: 1px dotted black;border-radius: 0.25em;box-sizing: border-box;margin-bottom: 0.5em;}#sk-container-id-1 div.sk-estimator:hover {background-color: #d4ebff;}#sk-container-id-1 div.sk-parallel-item::after {content: \"\";width: 100%;border-bottom: 1px solid gray;flex-grow: 1;}#sk-container-id-1 div.sk-label:hover label.sk-toggleable__label {background-color: #d4ebff;}#sk-container-id-1 div.sk-serial::before {content: \"\";position: absolute;border-left: 1px solid gray;box-sizing: border-box;top: 0;bottom: 0;left: 50%;z-index: 0;}#sk-container-id-1 div.sk-serial {display: flex;flex-direction: column;align-items: center;background-color: white;padding-right: 0.2em;padding-left: 0.2em;position: relative;}#sk-container-id-1 div.sk-item {position: relative;z-index: 1;}#sk-container-id-1 div.sk-parallel {display: flex;align-items: stretch;justify-content: center;background-color: white;position: relative;}#sk-container-id-1 div.sk-item::before, #sk-container-id-1 div.sk-parallel-item::before {content: \"\";position: absolute;border-left: 1px solid gray;box-sizing: border-box;top: 0;bottom: 0;left: 50%;z-index: -1;}#sk-container-id-1 div.sk-parallel-item {display: flex;flex-direction: column;z-index: 1;position: relative;background-color: white;}#sk-container-id-1 div.sk-parallel-item:first-child::after {align-self: flex-end;width: 50%;}#sk-container-id-1 div.sk-parallel-item:last-child::after {align-self: flex-start;width: 50%;}#sk-container-id-1 div.sk-parallel-item:only-child::after {width: 0;}#sk-container-id-1 div.sk-dashed-wrapped {border: 1px dashed gray;margin: 0 0.4em 0.5em 0.4em;box-sizing: border-box;padding-bottom: 0.4em;background-color: white;}#sk-container-id-1 div.sk-label label {font-family: monospace;font-weight: bold;display: inline-block;line-height: 1.2em;}#sk-container-id-1 div.sk-label-container {text-align: center;}#sk-container-id-1 div.sk-container {/* jupyter's `normalize.less` sets `[hidden] { display: none; }` but bootstrap.min.css set `[hidden] { display: none !important; }` so we also need the `!important` here to be able to override the default hidden behavior on the sphinx rendered scikit-learn.org. See: https://github.com/scikit-learn/scikit-learn/issues/21755 */display: inline-block !important;position: relative;}#sk-container-id-1 div.sk-text-repr-fallback {display: none;}</style><div id=\"sk-container-id-1\" class=\"sk-top-container\"><div class=\"sk-text-repr-fallback\"><pre>Pipeline(steps=[(&#x27;forest&#x27;,\n",
       "                 RandomForestClassifier(max_depth=21, max_features=10,\n",
       "                                        n_estimators=350))])</pre><b>In a Jupyter environment, please rerun this cell to show the HTML representation or trust the notebook. <br />On GitHub, the HTML representation is unable to render, please try loading this page with nbviewer.org.</b></div><div class=\"sk-container\" hidden><div class=\"sk-item sk-dashed-wrapped\"><div class=\"sk-label-container\"><div class=\"sk-label sk-toggleable\"><input class=\"sk-toggleable__control sk-hidden--visually\" id=\"sk-estimator-id-1\" type=\"checkbox\" ><label for=\"sk-estimator-id-1\" class=\"sk-toggleable__label sk-toggleable__label-arrow\">Pipeline</label><div class=\"sk-toggleable__content\"><pre>Pipeline(steps=[(&#x27;forest&#x27;,\n",
       "                 RandomForestClassifier(max_depth=21, max_features=10,\n",
       "                                        n_estimators=350))])</pre></div></div></div><div class=\"sk-serial\"><div class=\"sk-item\"><div class=\"sk-estimator sk-toggleable\"><input class=\"sk-toggleable__control sk-hidden--visually\" id=\"sk-estimator-id-2\" type=\"checkbox\" ><label for=\"sk-estimator-id-2\" class=\"sk-toggleable__label sk-toggleable__label-arrow\">RandomForestClassifier</label><div class=\"sk-toggleable__content\"><pre>RandomForestClassifier(max_depth=21, max_features=10, n_estimators=350)</pre></div></div></div></div></div></div></div>"
      ],
      "text/plain": [
       "Pipeline(steps=[('forest',\n",
       "                 RandomForestClassifier(max_depth=21, max_features=10,\n",
       "                                        n_estimators=350))])"
      ]
     },
     "execution_count": 184,
     "metadata": {},
     "output_type": "execute_result"
    }
   ],
   "source": [
    "best_model_stack_rf"
   ]
  },
  {
   "cell_type": "markdown",
   "metadata": {},
   "source": [
    "# Final Predictions 🔮"
   ]
  },
  {
   "cell_type": "markdown",
   "metadata": {},
   "source": [
    "Записываем прогнозы модели в `.csv` файл и проверяем на тесте:"
   ]
  },
  {
   "cell_type": "code",
   "execution_count": 373,
   "metadata": {},
   "outputs": [],
   "source": [
    "y_hat = best_model_stack_rf.predict(TEST) \n",
    "y_pred = le_tar.inverse_transform(y_hat.ravel())\n",
    "data = pd.DataFrame(zip(test['id'], y_pred), \n",
    "                    columns = ['id', 'status_group']).to_csv('subs/final_prediction_17092024_1.csv',\n",
    "                                                             sep=',',\n",
    "                                                             index=False)"
   ]
  },
  {
   "cell_type": "markdown",
   "metadata": {},
   "source": [
    "Данный предикт даёт результат **0.8231**, но можно подобрать гиперпараметры, дающие ещё больше accuracy. *(Получалось выбить* ***0.8238***, *правда модель не сохранил)*"
   ]
  },
  {
   "cell_type": "markdown",
   "metadata": {},
   "source": [
    "# Rank 🏆"
   ]
  },
  {
   "cell_type": "markdown",
   "metadata": {},
   "source": [
    "<img src='images/place_pump.png' />"
   ]
  },
  {
   "cell_type": "markdown",
   "metadata": {},
   "source": [
    "---"
   ]
  }
 ],
 "metadata": {
  "kernelspec": {
   "display_name": "Python 3",
   "language": "python",
   "name": "python3"
  },
  "language_info": {
   "codemirror_mode": {
    "name": "ipython",
    "version": 3
   },
   "file_extension": ".py",
   "mimetype": "text/x-python",
   "name": "python",
   "nbconvert_exporter": "python",
   "pygments_lexer": "ipython3",
   "version": "3.8.18"
  }
 },
 "nbformat": 4,
 "nbformat_minor": 4
}
